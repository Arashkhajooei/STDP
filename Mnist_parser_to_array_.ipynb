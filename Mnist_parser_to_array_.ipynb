{
  "nbformat": 4,
  "nbformat_minor": 0,
  "metadata": {
    "colab": {
      "provenance": [],
      "authorship_tag": "ABX9TyMHILh7w9hqcuLpC7nehZH5",
      "include_colab_link": true
    },
    "kernelspec": {
      "name": "python3",
      "display_name": "Python 3"
    },
    "language_info": {
      "name": "python"
    }
  },
  "cells": [
    {
      "cell_type": "markdown",
      "metadata": {
        "id": "view-in-github",
        "colab_type": "text"
      },
      "source": [
        "<a href=\"https://colab.research.google.com/github/arashkhgit/Data-Engineering/blob/main/Mnist_parser_to_array_.ipynb\" target=\"_parent\"><img src=\"https://colab.research.google.com/assets/colab-badge.svg\" alt=\"Open In Colab\"/></a>"
      ]
    },
    {
      "cell_type": "code",
      "execution_count": null,
      "metadata": {
        "id": "rRDjiNloaytf"
      },
      "outputs": [],
      "source": [
        "import cv2\n",
        "import numpy as np\n",
        "import struct\n",
        "import codecs\n",
        "from google.colab.patches import cv2_imshow"
      ]
    },
    {
      "cell_type": "code",
      "source": [
        "image = cv2.imread(\"/content/60028.png\", flags=cv2.IMREAD_COLOR)"
      ],
      "metadata": {
        "id": "i_Oq1rANcxQP"
      },
      "execution_count": null,
      "outputs": []
    },
    {
      "cell_type": "code",
      "source": [
        "image2 = cv2.imread(\"/content/60028.png\", cv2.IMREAD_GRAYSCALE)"
      ],
      "metadata": {
        "id": "HMO0Gz8Ic4Uf"
      },
      "execution_count": null,
      "outputs": []
    },
    {
      "cell_type": "code",
      "source": [
        "cv2_imshow(image2)"
      ],
      "metadata": {
        "colab": {
          "base_uri": "https://localhost:8080/",
          "height": 45
        },
        "id": "1KohJTxjc4KG",
        "outputId": "d9670c94-cdc5-42d5-bdee-57dddcff3d10"
      },
      "execution_count": null,
      "outputs": [
        {
          "output_type": "display_data",
          "data": {
            "text/plain": [
              "<PIL.Image.Image image mode=L size=28x28 at 0x7FEA1C0FF9D0>"
            ],
            "image/png": "[encoded data removed]"
          },
          "metadata": {}
        }
      ]
    },
    {
      "cell_type": "code",
      "source": [
        "Mask = cv2.bitwise_not(image2)"
      ],
      "metadata": {
        "id": "bWyBPYlLdzoh"
      },
      "execution_count": null,
      "outputs": []
    },
    {
      "cell_type": "code",
      "source": [
        "cv2_imshow(Mask)"
      ],
      "metadata": {
        "colab": {
          "base_uri": "https://localhost:8080/",
          "height": 45
        },
        "id": "BxwhBzsofay1",
        "outputId": "84b5d0f9-eab3-4ded-f457-968b1b433861"
      },
      "execution_count": null,
      "outputs": [
        {
          "output_type": "display_data",
          "data": {
            "text/plain": [
              "<PIL.Image.Image image mode=L size=28x28 at 0x7FEA1C0FF760>"
            ],
            "image/png": "[encoded data removed]"
          },
          "metadata": {}
        }
      ]
    },
    {
      "cell_type": "code",
      "source": [
        "flatten=image2.flatten()"
      ],
      "metadata": {
        "id": "TqxrSo7ufh9W"
      },
      "execution_count": null,
      "outputs": []
    },
    {
      "cell_type": "code",
      "source": [
        "flatten"
      ],
      "metadata": {
        "id": "GixigG3Fip5M"
      },
      "execution_count": null,
      "outputs": []
    },
    {
      "cell_type": "code",
      "source": [
        "def NormalizeData(data):\n",
        "    return (data - np.min(data)) / (np.max(data) - np.min(data))"
      ],
      "metadata": {
        "id": "qXQlyiQnfyhX"
      },
      "execution_count": null,
      "outputs": []
    },
    {
      "cell_type": "code",
      "source": [
        "flatten=NormalizeData(flatten)\n",
        "flatten.shape"
      ],
      "metadata": {
        "colab": {
          "base_uri": "https://localhost:8080/"
        },
        "id": "Z2rrhYF-gJX_",
        "outputId": "5e264ce5-1c93-4211-c214-41f30e1401c0"
      },
      "execution_count": null,
      "outputs": [
        {
          "output_type": "execute_result",
          "data": {
            "text/plain": [
              "(784,)"
            ]
          },
          "metadata": {},
          "execution_count": 10
        }
      ]
    },
    {
      "cell_type": "code",
      "source": [
        "flatten=flatten.reshape((784, 1))\n",
        "flatten.shape"
      ],
      "metadata": {
        "colab": {
          "base_uri": "https://localhost:8080/"
        },
        "id": "Yw4J31_rhI4O",
        "outputId": "a09a733e-a95b-4773-91aa-efdccd5d71af"
      },
      "execution_count": null,
      "outputs": [
        {
          "output_type": "execute_result",
          "data": {
            "text/plain": [
              "(784, 1)"
            ]
          },
          "metadata": {},
          "execution_count": 11
        }
      ]
    },
    {
      "cell_type": "code",
      "source": [
        "flatten"
      ],
      "metadata": {
        "id": "6EmHAS2u3moU"
      },
      "execution_count": null,
      "outputs": []
    },
    {
      "cell_type": "code",
      "source": [
        "# Function for converting decimal to binary\n",
        "def float_bin(my_number, places = 3):\n",
        "    my_whole, my_dec = str(my_number).split(\".\")\n",
        "    my_whole = int(my_whole)\n",
        "    res = (str(bin(my_whole))+\".\").replace('0b','')\n",
        " \n",
        "    for x in range(places):\n",
        "        my_dec = str('0.')+str(my_dec)\n",
        "        temp = '%1.20f' %(float(my_dec)*2)\n",
        "        my_whole, my_dec = temp.split(\".\")\n",
        "        res += my_whole\n",
        "    return res\n",
        " \n",
        " \n",
        " \n",
        "def IEEE754(n) :\n",
        "    # identifying whether the number\n",
        "    # is positive or negative\n",
        "    sign = 0\n",
        "    if n < 0 :\n",
        "        sign = 1\n",
        "        n = n * (-1)\n",
        "    p = 30\n",
        "    # convert float to binary\n",
        "    dec = float_bin (n, places = p)\n",
        " \n",
        "    dotPlace = dec.find('.')\n",
        "    onePlace = dec.find('1')\n",
        "    # finding the mantissa\n",
        "    if onePlace > dotPlace:\n",
        "        dec = dec.replace(\".\",\"\")\n",
        "        onePlace -= 1\n",
        "        dotPlace -= 1\n",
        "    elif onePlace < dotPlace:\n",
        "        dec = dec.replace(\".\",\"\")\n",
        "        dotPlace -= 1\n",
        "    mantissa = dec[onePlace+1:]\n",
        " \n",
        "    # calculating the exponent(E)\n",
        "    exponent = dotPlace - onePlace\n",
        "    exponent_bits = exponent + 127\n",
        " \n",
        "    # converting the exponent from\n",
        "    # decimal to binary\n",
        "    exponent_bits = bin(exponent_bits).replace(\"0b\",'')\n",
        " \n",
        "    mantissa = mantissa[0:23]\n",
        " \n",
        "    # the IEEE754 notation in binary    \n",
        "    final = str(sign) + exponent_bits.zfill(8) + mantissa\n",
        " \n",
        "    # convert the binary to hexadecimal\n",
        "    hstr = '0x%0*X' %((len(final) + 3) // 4, int(final, 2))\n",
        "    return (hstr, final)"
      ],
      "metadata": {
        "id": "YEVlzqRB3q9b"
      },
      "execution_count": null,
      "outputs": []
    },
    {
      "cell_type": "code",
      "source": [
        "print(IEEE754(-0.0197))"
      ],
      "metadata": {
        "id": "ERvsj9wv6eS7",
        "outputId": "2fec3dc7-4915-4927-bf2f-31edc3ae7e9b",
        "colab": {
          "base_uri": "https://localhost:8080/"
        }
      },
      "execution_count": null,
      "outputs": [
        {
          "output_type": "stream",
          "name": "stdout",
          "text": [
            "('0xBCA161E4', '10111100101000010110000111100100')\n"
          ]
        }
      ]
    },
    {
      "cell_type": "code",
      "source": [
        "(np.savetxt('test.txt', flatten,fmt='%1.3f',newline=' ') "
      ],
      "metadata": {
        "id": "QmuWVbBihbtX"
      },
      "execution_count": null,
      "outputs": []
    },
    {
      "cell_type": "code",
      "source": [],
      "metadata": {
        "id": "ZVQZSwnwkszh"
      },
      "execution_count": null,
      "outputs": []
    }
  ]
}