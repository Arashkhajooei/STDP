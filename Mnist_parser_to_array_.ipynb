{
  "nbformat": 4,
  "nbformat_minor": 0,
  "metadata": {
    "colab": {
      "provenance": [],
      "authorship_tag": "ABX9TyPWsybiogc5Gx/Yl8hFtRpr",
      "include_colab_link": true
    },
    "kernelspec": {
      "name": "python3",
      "display_name": "Python 3"
    },
    "language_info": {
      "name": "python"
    }
  },
  "cells": [
    {
      "cell_type": "markdown",
      "metadata": {
        "id": "view-in-github",
        "colab_type": "text"
      },
      "source": [
        "<a href=\"https://colab.research.google.com/github/arashkhgit/Data-Engineering/blob/main/Mnist_parser_to_array_.ipynb\" target=\"_parent\"><img src=\"https://colab.research.google.com/assets/colab-badge.svg\" alt=\"Open In Colab\"/></a>"
      ]
    },
    {
      "cell_type": "code",
      "execution_count": 127,
      "metadata": {
        "id": "rRDjiNloaytf"
      },
      "outputs": [],
      "source": [
        "import cv2\n",
        "import numpy as np\n",
        "import struct\n",
        "import codecs\n",
        "from google.colab.patches import cv2_imshow"
      ]
    },
    {
      "cell_type": "code",
      "source": [
        "image = cv2.imread(\"/content/60028.png\", flags=cv2.IMREAD_COLOR)"
      ],
      "metadata": {
        "id": "i_Oq1rANcxQP"
      },
      "execution_count": 128,
      "outputs": []
    },
    {
      "cell_type": "code",
      "source": [
        "image2 = cv2.imread(\"/content/60028.png\", cv2.IMREAD_GRAYSCALE)"
      ],
      "metadata": {
        "id": "HMO0Gz8Ic4Uf"
      },
      "execution_count": 129,
      "outputs": []
    },
    {
      "cell_type": "code",
      "source": [
        "cv2_imshow(image2)"
      ],
      "metadata": {
        "colab": {
          "base_uri": "https://localhost:8080/",
          "height": 45
        },
        "id": "1KohJTxjc4KG",
        "outputId": "2c211095-7e97-43b7-808c-523ac573733f"
      },
      "execution_count": 130,
      "outputs": [
        {
          "output_type": "display_data",
          "data": {
            "text/plain": [
              "<PIL.Image.Image image mode=L size=28x28 at 0x7FF49F0F7310>"
            ],
            "image/png": "[encoded data removed]"
          },
          "metadata": {}
        }
      ]
    },
    {
      "cell_type": "code",
      "source": [
        "Mask = cv2.bitwise_not(image2)"
      ],
      "metadata": {
        "id": "bWyBPYlLdzoh"
      },
      "execution_count": 131,
      "outputs": []
    },
    {
      "cell_type": "code",
      "source": [
        "cv2_imshow(Mask)"
      ],
      "metadata": {
        "colab": {
          "base_uri": "https://localhost:8080/",
          "height": 45
        },
        "id": "BxwhBzsofay1",
        "outputId": "220d2616-c832-4f97-fbf9-dfd385003350"
      },
      "execution_count": 132,
      "outputs": [
        {
          "output_type": "display_data",
          "data": {
            "text/plain": [
              "<PIL.Image.Image image mode=L size=28x28 at 0x7FF49F0F7C70>"
            ],
            "image/png": "[encoded data removed]"
          },
          "metadata": {}
        }
      ]
    },
    {
      "cell_type": "code",
      "source": [
        "flatten=image2.flatten()"
      ],
      "metadata": {
        "id": "TqxrSo7ufh9W"
      },
      "execution_count": 133,
      "outputs": []
    },
    {
      "cell_type": "code",
      "source": [
        "flatten[300]"
      ],
      "metadata": {
        "id": "GixigG3Fip5M",
        "colab": {
          "base_uri": "https://localhost:8080/"
        },
        "outputId": "d2592acc-0f0a-4e24-a725-a2a26f3bb1b8"
      },
      "execution_count": 134,
      "outputs": [
        {
          "output_type": "execute_result",
          "data": {
            "text/plain": [
              "253"
            ]
          },
          "metadata": {},
          "execution_count": 134
        }
      ]
    },
    {
      "cell_type": "code",
      "source": [
        "def NormalizeData(data):\n",
        "    return (data - np.min(data)) / (np.max(data) - np.min(data))"
      ],
      "metadata": {
        "id": "qXQlyiQnfyhX"
      },
      "execution_count": 135,
      "outputs": []
    },
    {
      "cell_type": "code",
      "source": [
        "flatten=NormalizeData(flatten)\n",
        "flatten.shape"
      ],
      "metadata": {
        "colab": {
          "base_uri": "https://localhost:8080/"
        },
        "id": "Z2rrhYF-gJX_",
        "outputId": "9129a9fb-96a3-4658-bfee-26f7dafceebb"
      },
      "execution_count": 136,
      "outputs": [
        {
          "output_type": "execute_result",
          "data": {
            "text/plain": [
              "(784,)"
            ]
          },
          "metadata": {},
          "execution_count": 136
        }
      ]
    },
    {
      "cell_type": "code",
      "source": [
        "flatten=flatten.reshape((784, 1))\n",
        "flatten.shape"
      ],
      "metadata": {
        "colab": {
          "base_uri": "https://localhost:8080/"
        },
        "id": "Yw4J31_rhI4O",
        "outputId": "93007d87-c684-4271-8906-7aa2aac1719f"
      },
      "execution_count": 137,
      "outputs": [
        {
          "output_type": "execute_result",
          "data": {
            "text/plain": [
              "(784, 1)"
            ]
          },
          "metadata": {},
          "execution_count": 137
        }
      ]
    },
    {
      "cell_type": "code",
      "source": [
        "flatten"
      ],
      "metadata": {
        "id": "6EmHAS2u3moU"
      },
      "execution_count": null,
      "outputs": []
    },
    {
      "cell_type": "code",
      "source": [
        "# Function for converting decimal to binary\n",
        "def float_bin(my_number, places = 3):\n",
        "    my_whole, my_dec = str(my_number).split(\".\")\n",
        "    my_whole = int(my_whole)\n",
        "    res = (str(bin(my_whole))+\".\").replace('0b','')\n",
        " \n",
        "    for x in range(places):\n",
        "        my_dec = str('0.')+str(my_dec)\n",
        "        temp = '%1.20f' %(float(my_dec)*2)\n",
        "        my_whole, my_dec = temp.split(\".\")\n",
        "        res += my_whole\n",
        "    return res\n",
        " \n",
        " \n",
        " \n",
        "def IEEE754(n) :\n",
        "    # identifying whether the number\n",
        "    # is positive or negative\n",
        "    sign = 0\n",
        "    if n < 0 :\n",
        "        sign = 1\n",
        "        n = n * (-1)\n",
        "    p = 30\n",
        "    # convert float to binary\n",
        "    dec = float_bin (n, places = p)\n",
        " \n",
        "    dotPlace = dec.find('.')\n",
        "    onePlace = dec.find('1')\n",
        "    # finding the mantissa\n",
        "    if onePlace > dotPlace:\n",
        "        dec = dec.replace(\".\",\"\")\n",
        "        onePlace -= 1\n",
        "        dotPlace -= 1\n",
        "    elif onePlace < dotPlace:\n",
        "        dec = dec.replace(\".\",\"\")\n",
        "        dotPlace -= 1\n",
        "    mantissa = dec[onePlace+1:]\n",
        " \n",
        "    # calculating the exponent(E)\n",
        "    exponent = dotPlace - onePlace\n",
        "    exponent_bits = exponent + 127\n",
        " \n",
        "    # converting the exponent from\n",
        "    # decimal to binary\n",
        "    exponent_bits = bin(exponent_bits).replace(\"0b\",'')\n",
        " \n",
        "    mantissa = mantissa[0:23]\n",
        " \n",
        "    # the IEEE754 notation in binary    \n",
        "    final = str(sign) + exponent_bits.zfill(8) + mantissa\n",
        " \n",
        "    # convert the binary to hexadecimal\n",
        "    hstr = '0x%0*X' %((len(final) + 3) // 4, int(final, 2))\n",
        "    return (hstr)"
      ],
      "metadata": {
        "id": "YEVlzqRB3q9b"
      },
      "execution_count": 139,
      "outputs": []
    },
    {
      "cell_type": "code",
      "source": [
        "empty_array = []"
      ],
      "metadata": {
        "id": "QMFqttozHH0w"
      },
      "execution_count": 140,
      "outputs": []
    },
    {
      "cell_type": "code",
      "source": [
        "for i in range(len(flatten)):\n",
        "  if flatten[i]==0 :\n",
        "    empty_array.append('0x00000000')\n",
        "  else :\n",
        "    #print(flatten[i])\n",
        "    empty_array.append(IEEE754(float(flatten[i])))"
      ],
      "metadata": {
        "id": "YvUhB8EQGJN8"
      },
      "execution_count": 141,
      "outputs": []
    },
    {
      "cell_type": "code",
      "source": [
        "print((empty_array))"
      ],
      "metadata": {
        "colab": {
          "base_uri": "https://localhost:8080/"
        },
        "id": "hwSb_TkGIJ19",
        "outputId": "3d977ff9-f5d2-4fbd-d54c-53f3149ca633"
      },
      "execution_count": 142,
      "outputs": [
        {
          "output_type": "stream",
          "name": "stdout",
          "text": [
            "['0x00000000', '0x00000000', '0x00000000', '0x00000000', '0x00000000', '0x00000000', '0x00000000', '0x00000000', '0x00000000', '0x00000000', '0x00000000', '0x00000000', '0x00000000', '0x00000000', '0x00000000', '0x00000000', '0x00000000', '0x00000000', '0x00000000', '0x00000000', '0x00000000', '0x00000000', '0x00000000', '0x00000000', '0x00000000', '0x00000000', '0x00000000', '0x00000000', '0x00000000', '0x00000000', '0x00000000', '0x00000000', '0x00000000', '0x00000000', '0x00000000', '0x00000000', '0x00000000', '0x00000000', '0x00000000', '0x00000000', '0x00000000', '0x00000000', '0x00000000', '0x00000000', '0x00000000', '0x00000000', '0x00000000', '0x00000000', '0x00000000', '0x00000000', '0x00000000', '0x00000000', '0x00000000', '0x00000000', '0x00000000', '0x00000000', '0x00000000', '0x00000000', '0x00000000', '0x00000000', '0x00000000', '0x00000000', '0x00000000', '0x00000000', '0x00000000', '0x00000000', '0x00000000', '0x00000000', '0x00000000', '0x00000000', '0x00000000', '0x00000000', '0x00000000', '0x00000000', '0x00000000', '0x00000000', '0x00000000', '0x00000000', '0x00000000', '0x00000000', '0x00000000', '0x00000000', '0x00000000', '0x00000000', '0x00000000', '0x00000000', '0x00000000', '0x00000000', '0x00000000', '0x00000000', '0x00000000', '0x00000000', '0x00000000', '0x00000000', '0x00000000', '0x00000000', '0x00000000', '0x00000000', '0x00000000', '0x00000000', '0x00000000', '0x00000000', '0x00000000', '0x00000000', '0x00000000', '0x00000000', '0x00000000', '0x00000000', '0x00000000', '0x00000000', '0x00000000', '0x00000000', '0x00000000', '0x00000000', '0x00000000', '0x00000000', '0x00000000', '0x00000000', '0x00000000', '0x00000000', '0x00000000', '0x00000000', '0x00000000', '0x00000000', '0x00000000', '0x00000000', '0x00000000', '0x00000000', '0x00000000', '0x00000000', '0x00000000', '0x00000000', '0x00000000', '0x00000000', '0x00000000', '0x00000000', '0x00000000', '0x00000000', '0x00000000', '0x00000000', '0x00000000', '0x00000000', '0x00000000', '0x00000000', '0x00000000', '0x00000000', '0x00000000', '0x00000000', '0x00000000', '0x3E008080', '0x3F800000', '0x3F7EFEFE', '0x3F800000', '0x3F7EFEFE', '0x3F7EFEFE', '0x3F7EFEFE', '0x3F1D9D9D', '0x3F028282', '0x3EB0B0B0', '0x1DC04040', '0x00000000', '0x00000000', '0x00000000', '0x00000000', '0x00000000', '0x00000000', '0x00000000', '0x00000000', '0x00000000', '0x00000000', '0x00000000', '0x00000000', '0x00000000', '0x00000000', '0x00000000', '0x00000000', '0x00000000', '0x3E008080', '0x3F7DFDFD', '0x3F7DFDFD', '0x3F7DFDFD', '0x3F7DFDFD', '0x3F7DFDFD', '0x3F7DFDFD', '0x3F7DFDFD', '0x3F7DFDFD', '0x3F7DFDFD', '0x3ED8D8D8', '0x3C008080', '0x00000000', '0x00000000', '0x00000000', '0x00000000', '0x00000000', '0x00000000', '0x00000000', '0x00000000', '0x00000000', '0x00000000', '0x00000000', '0x00000000', '0x00000000', '0x00000000', '0x00000000', '0x00000000', '0x3D60E0E0', '0x3F018181', '0x3F6EEEEE', '0x3F7DFDFD', '0x3F7DFDFD', '0x3F7DFDFD', '0x3F7DFDFD', '0x3F7DFDFD', '0x3F7DFDFD', '0x3F7DFDFD', '0x3F7DFDFD', '0x3DF0F0F0', '0x00000000', '0x00000000', '0x00000000', '0x00000000', '0x00000000', '0x00000000', '0x00000000', '0x00000000', '0x00000000', '0x00000000', '0x00000000', '0x00000000', '0x00000000', '0x00000000', '0x00000000', '0x00000000', '0x00000000', '0x00000000', '0x3E60E0E0', '0x3F7DFDFD', '0x3F78F8F8', '0x3F27A7A7', '0x3F6BEBEB', '0x3F7DFDFD', '0x3F7DFDFD', '0x3F7DFDFD', '0x3F7DFDFD', '0x3ED0D0D0', '0x00000000', '0x00000000', '0x00000000', '0x00000000', '0x00000000', '0x00000000', '0x00000000', '0x00000000', '0x00000000', '0x00000000', '0x00000000', '0x00000000', '0x00000000', '0x00000000', '0x00000000', '0x00000000', '0x00000000', '0x3CA0A0A0', '0x3F32B2B2', '0x3F7DFDFD', '0x3F36B6B6', '0x00000000', '0x3DD8D8D8', '0x3F068686', '0x3F77F7F7', '0x3F7DFDFD', '0x3F7DFDFD', '0x3F57D7D7', '0x3D70F0F0', '0x00000000', '0x00000000', '0x00000000', '0x00000000', '0x00000000', '0x00000000', '0x00000000', '0x00000000', '0x00000000', '0x00000000', '0x00000000', '0x00000000', '0x00000000', '0x00000000', '0x00000000', '0x3CA0A0A0', '0x3F028282', '0x3F7DFDFD', '0x3F5EDEDE', '0x3DD8D8D8', '0x00000000', '0x00000000', '0x00000000', '0x3F3ABABA', '0x3F7DFDFD', '0x3F7DFDFD', '0x3F7DFDFD', '0x3DC0C0C0', '0x00000000', '0x00000000', '0x00000000', '0x00000000', '0x00000000', '0x00000000', '0x00000000', '0x00000000', '0x00000000', '0x00000000', '0x00000000', '0x00000000', '0x00000000', '0x00000000', '0x00000000', '0x3E008080', '0x3F7DFDFD', '0x3F7DFDFD', '0x3EF4F4F4', '0x00000000', '0x00000000', '0x00000000', '0x00000000', '0x3E868686', '0x3F76F6F6', '0x3F7DFDFD', '0x3F7DFDFD', '0x3ED4D4D4', '0x00000000', '0x00000000', '0x00000000', '0x00000000', '0x00000000', '0x00000000', '0x00000000', '0x00000000', '0x00000000', '0x00000000', '0x00000000', '0x00000000', '0x00000000', '0x00000000', '0x00000000', '0x3EEAEAEA', '0x3F7DFDFD', '0x3F47C7C7', '0x3DC8C8C8', '0x00000000', '0x00000000', '0x00000000', '0x00000000', '0x00000000', '0x3F3BBBBB', '0x3F7DFDFD', '0x3F7DFDFD', '0x3F149494', '0x00000000', '0x00000000', '0x00000000', '0x00000000', '0x00000000', '0x00000000', '0x00000000', '0x00000000', '0x00000000', '0x00000000', '0x00000000', '0x00000000', '0x00000000', '0x00000000', '0x3E38B8B8', '0x3F61E1E1', '0x3F75F5F5', '0x3E868686', '0x00000000', '0x00000000', '0x00000000', '0x00000000', '0x00000000', '0x00000000', '0x3EB0B0B0', '0x3F7DFDFD', '0x3F7DFDFD', '0x3F149494', '0x00000000', '0x00000000', '0x00000000', '0x00000000', '0x00000000', '0x00000000', '0x00000000', '0x00000000', '0x00000000', '0x00000000', '0x00000000', '0x00000000', '0x00000000', '0x00000000', '0x3F159595', '0x3F7DFDFD', '0x3F39B9B9', '0x00000000', '0x00000000', '0x00000000', '0x00000000', '0x00000000', '0x00000000', '0x00000000', '0x3EB0B0B0', '0x3F7DFDFD', '0x3F7DFDFD', '0x3F149494', '0x00000000', '0x00000000', '0x00000000', '0x00000000', '0x00000000', '0x00000000', '0x00000000', '0x00000000', '0x00000000', '0x00000000', '0x00000000', '0x00000000', '0x00000000', '0x3D70F0F0', '0x3F64E4E4', '0x3F7DFDFD', '0x3EBABABA', '0x00000000', '0x00000000', '0x00000000', '0x00000000', '0x00000000', '0x00000000', '0x00000000', '0x3EB0B0B0', '0x3F7DFDFD', '0x3F7DFDFD', '0x3F149494', '0x00000000', '0x00000000', '0x00000000', '0x00000000', '0x00000000', '0x00000000', '0x00000000', '0x00000000', '0x00000000', '0x00000000', '0x00000000', '0x00000000', '0x00000000', '0x3D989898', '0x3F7DFDFD', '0x3F7DFDFD', '0x3EBABABA', '0x00000000', '0x00000000', '0x00000000', '0x00000000', '0x00000000', '0x00000000', '0x00000000', '0x3EB0B0B0', '0x3F7DFDFD', '0x3F7DFDFD', '0x3F149494', '0x00000000', '0x00000000', '0x00000000', '0x00000000', '0x00000000', '0x00000000', '0x00000000', '0x00000000', '0x00000000', '0x00000000', '0x00000000', '0x00000000', '0x00000000', '0x3D989898', '0x3F7DFDFD', '0x3F7DFDFD', '0x3EBABABA', '0x00000000', '0x00000000', '0x00000000', '0x00000000', '0x00000000', '0x00000000', '0x00000000', '0x3EB0B0B0', '0x3F7DFDFD', '0x3F7DFDFD', '0x3EDADADA', '0x00000000', '0x00000000', '0x00000000', '0x00000000', '0x00000000', '0x00000000', '0x00000000', '0x00000000', '0x00000000', '0x00000000', '0x00000000', '0x00000000', '0x00000000', '0x3D989898', '0x3F7DFDFD', '0x3F7DFDFD', '0x3F068686', '0x00000000', '0x00000000', '0x00000000', '0x00000000', '0x00000000', '0x00000000', '0x00000000', '0x3EB0B0B0', '0x3F7DFDFD', '0x3F5BDBDB', '0x3D808080', '0x00000000', '0x00000000', '0x00000000', '0x00000000', '0x00000000', '0x00000000', '0x00000000', '0x00000000', '0x00000000', '0x00000000', '0x00000000', '0x00000000', '0x00000000', '0x3D989898', '0x3F7DFDFD', '0x3F7DFDFD', '0x3F66E6E6', '0x3E008080', '0x00000000', '0x00000000', '0x00000000', '0x00000000', '0x00000000', '0x00000000', '0x3F048484', '0x3F7DFDFD', '0x3F1A9A9A', '0x00000000', '0x00000000', '0x00000000', '0x00000000', '0x00000000', '0x00000000', '0x00000000', '0x00000000', '0x00000000', '0x00000000', '0x00000000', '0x00000000', '0x00000000', '0x00000000', '0x3D989898', '0x3F7DFDFD', '0x3F7DFDFD', '0x3F7DFDFD', '0x3F69E9E9', '0x3EF0F0F0', '0x00000000', '0x3E949494', '0x3EC8C8C8', '0x3EC8C8C8', '0x3F48C8C8', '0x3F78F8F8', '0x3F59D9D9', '0x3E048484', '0x00000000', '0x00000000', '0x00000000', '0x00000000', '0x00000000', '0x00000000', '0x00000000', '0x00000000', '0x00000000', '0x00000000', '0x00000000', '0x00000000', '0x00000000', '0x00000000', '0x3C008080', '0x3F1F9F9F', '0x3F7DFDFD', '0x3F7DFDFD', '0x3F7DFDFD', '0x3F79F9F9', '0x3F66E6E6', '0x3F77F7F7', '0x3F7DFDFD', '0x3F7DFDFD', '0x3F7DFDFD', '0x3F7DFDFD', '0x3EDADADA', '0x00000000', '0x00000000', '0x00000000', '0x00000000', '0x00000000', '0x00000000', '0x00000000', '0x00000000', '0x00000000', '0x00000000', '0x00000000', '0x00000000', '0x00000000', '0x00000000', '0x00000000', '0x00000000', '0x3EBEBEBE', '0x3F7DFDFD', '0x3F7DFDFD', '0x3F7DFDFD', '0x3F7DFDFD', '0x3F7DFDFD', '0x3F7DFDFD', '0x3F7DFDFD', '0x3F7DFDFD', '0x3F7DFDFD', '0x3EECECEC', '0x3C40C0C0', '0x00000000', '0x00000000', '0x00000000', '0x00000000', '0x00000000', '0x00000000', '0x00000000', '0x00000000', '0x00000000', '0x00000000', '0x00000000', '0x00000000', '0x00000000', '0x00000000', '0x00000000', '0x00000000', '0x3C008080', '0x3E24A4A4', '0x3F7DFDFD', '0x3F7DFDFD', '0x3F7DFDFD', '0x3F7DFDFD', '0x3F7DFDFD', '0x3F7DFDFD', '0x3F7DFDFD', '0x3EEEEEEE', '0x3C008080', '0x00000000', '0x00000000', '0x00000000', '0x00000000', '0x00000000', '0x00000000', '0x00000000', '0x00000000', '0x00000000', '0x00000000', '0x00000000', '0x00000000', '0x00000000', '0x00000000', '0x00000000', '0x00000000', '0x00000000', '0x00000000', '0x3D808080', '0x3E4CCCCC', '0x3EB0B0B0', '0x3F56D6D6', '0x3F25A5A5', '0x3EC6C6C6', '0x3CA0A0A0', '0x3CA0A0A0', '0x1DC04040', '0x00000000', '0x00000000', '0x00000000', '0x00000000', '0x00000000', '0x00000000', '0x00000000', '0x00000000', '0x00000000', '0x00000000', '0x00000000', '0x00000000', '0x00000000', '0x00000000', '0x00000000', '0x00000000', '0x00000000', '0x00000000', '0x00000000', '0x00000000', '0x00000000', '0x00000000', '0x00000000', '0x00000000', '0x00000000', '0x00000000', '0x00000000', '0x00000000', '0x00000000', '0x00000000', '0x00000000', '0x00000000', '0x00000000', '0x00000000', '0x00000000', '0x00000000', '0x00000000', '0x00000000', '0x00000000', '0x00000000', '0x00000000', '0x00000000', '0x00000000', '0x00000000', '0x00000000', '0x00000000', '0x00000000', '0x00000000', '0x00000000', '0x00000000', '0x00000000', '0x00000000', '0x00000000', '0x00000000', '0x00000000', '0x00000000', '0x00000000', '0x00000000', '0x00000000', '0x00000000', '0x00000000', '0x00000000', '0x00000000', '0x00000000', '0x00000000', '0x00000000', '0x00000000', '0x00000000', '0x00000000', '0x00000000', '0x00000000', '0x00000000', '0x00000000', '0x00000000', '0x00000000', '0x00000000', '0x00000000', '0x00000000', '0x00000000', '0x00000000', '0x00000000', '0x00000000', '0x00000000', '0x00000000', '0x00000000', '0x00000000', '0x00000000', '0x00000000', '0x00000000', '0x00000000', '0x00000000', '0x00000000', '0x00000000', '0x00000000']\n"
          ]
        }
      ]
    },
    {
      "cell_type": "code",
      "source": [
        "print(str(IEEE754(float(flatten[300]))))"
      ],
      "metadata": {
        "id": "ERvsj9wv6eS7",
        "outputId": "5c7bda21-a57c-4f56-bfc1-e57ff7287b52",
        "colab": {
          "base_uri": "https://localhost:8080/"
        }
      },
      "execution_count": 143,
      "outputs": [
        {
          "output_type": "stream",
          "name": "stdout",
          "text": [
            "0x3F7DFDFD\n"
          ]
        }
      ]
    },
    {
      "cell_type": "code",
      "source": [
        "type(empty_array)"
      ],
      "metadata": {
        "colab": {
          "base_uri": "https://localhost:8080/"
        },
        "id": "vt14EoJRPGEm",
        "outputId": "41861206-2518-4e3e-9c12-56f49f34a89a"
      },
      "execution_count": 147,
      "outputs": [
        {
          "output_type": "execute_result",
          "data": {
            "text/plain": [
              "list"
            ]
          },
          "metadata": {},
          "execution_count": 147
        }
      ]
    },
    {
      "cell_type": "code",
      "source": [
        "np.savetxt('test.txt', flatten,fmt='%1.3f',newline=' ') "
      ],
      "metadata": {
        "id": "QmuWVbBihbtX"
      },
      "execution_count": 145,
      "outputs": []
    },
    {
      "cell_type": "code",
      "source": [
        "file = open('items.txt','w')\n",
        "for item in empty_array:\n",
        "\tfile.write(item+\"\\n\")\n",
        "file.close()"
      ],
      "metadata": {
        "id": "ZVQZSwnwkszh"
      },
      "execution_count": 150,
      "outputs": []
    },
    {
      "cell_type": "code",
      "source": [
        "empty_array[301]"
      ],
      "metadata": {
        "colab": {
          "base_uri": "https://localhost:8080/",
          "height": 35
        },
        "id": "Hveh6rpgOtOE",
        "outputId": "893a63ec-1ddf-4831-9561-baea45d8362c"
      },
      "execution_count": 155,
      "outputs": [
        {
          "output_type": "execute_result",
          "data": {
            "text/plain": [
              "'0x3DC0C0C0'"
            ],
            "application/vnd.google.colaboratory.intrinsic+json": {
              "type": "string"
            }
          },
          "metadata": {},
          "execution_count": 155
        }
      ]
    },
    {
      "cell_type": "code",
      "source": [],
      "metadata": {
        "id": "dF8LbSdmUKZN"
      },
      "execution_count": null,
      "outputs": []
    }
  ]
}