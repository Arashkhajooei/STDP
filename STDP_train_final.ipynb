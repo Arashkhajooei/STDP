{
  "nbformat": 4,
  "nbformat_minor": 0,
  "metadata": {
    "colab": {
      "provenance": [],
      "authorship_tag": "ABX9TyOWtqoEKeJTANgniju6VJ6N",
      "include_colab_link": true
    },
    "kernelspec": {
      "name": "python3",
      "display_name": "Python 3"
    },
    "language_info": {
      "name": "python"
    }
  },
  "cells": [
    {
      "cell_type": "markdown",
      "metadata": {
        "id": "view-in-github",
        "colab_type": "text"
      },
      "source": [
        "<a href=\"https://colab.research.google.com/github/arashkhgit/Data-Engineering/blob/main/STDP_train_final.ipynb\" target=\"_parent\"><img src=\"https://colab.research.google.com/assets/colab-badge.svg\" alt=\"Open In Colab\"/></a>"
      ]
    },
    {
      "cell_type": "code",
      "execution_count": null,
      "metadata": {
        "id": "03r5TkN65u_N"
      },
      "outputs": [],
      "source": [
        "from skimage.io import imread_collection\n",
        "from skimage.io import imshow_collection\n",
        "import cv2\n",
        "from google.colab.patches import cv2_imshow\n",
        "import struct\n",
        "\n",
        "from PIL import Image as im\n",
        "import numpy as np\n",
        "\n",
        "i=6\n",
        "#your path \n",
        "col_dir = '/content/1/*.png'\n",
        "\n",
        "#creating a collection with the available images\n",
        "col = imread_collection(col_dir)"
      ]
    },
    {
      "cell_type": "code",
      "source": [
        "len(col)"
      ],
      "metadata": {
        "colab": {
          "base_uri": "https://localhost:8080/"
        },
        "id": "qMcuSchvM3pp",
        "outputId": "c6bf4b30-e2cb-4e45-de64-0fa3b0a31c08"
      },
      "execution_count": null,
      "outputs": [
        {
          "output_type": "execute_result",
          "data": {
            "text/plain": [
              "980"
            ]
          },
          "metadata": {},
          "execution_count": 138
        }
      ]
    },
    {
      "cell_type": "code",
      "source": [
        "col[0].shape"
      ],
      "metadata": {
        "colab": {
          "base_uri": "https://localhost:8080/"
        },
        "id": "f0dGxw7c6DdK",
        "outputId": "c886988e-3d9c-427c-f770-42b1a97ee200"
      },
      "execution_count": null,
      "outputs": [
        {
          "output_type": "execute_result",
          "data": {
            "text/plain": [
              "(28, 28)"
            ]
          },
          "metadata": {},
          "execution_count": 139
        }
      ]
    },
    {
      "cell_type": "code",
      "source": [
        "for i in range(len(col)):\n",
        "  cv2_imshow(col[i])"
      ],
      "metadata": {
        "id": "e8JJyPVb6E1K"
      },
      "execution_count": null,
      "outputs": []
    },
    {
      "cell_type": "code",
      "source": [
        "flatten=[]"
      ],
      "metadata": {
        "id": "16j8PAn-vliv"
      },
      "execution_count": null,
      "outputs": []
    },
    {
      "cell_type": "code",
      "source": [
        "for i in range(len(col)): \n",
        "  flatten.append(col[i].flatten())"
      ],
      "metadata": {
        "id": "UgBCtL6UMK08"
      },
      "execution_count": null,
      "outputs": []
    },
    {
      "cell_type": "code",
      "source": [
        "len(flatten[0])"
      ],
      "metadata": {
        "colab": {
          "base_uri": "https://localhost:8080/"
        },
        "id": "6-18Ams4RCLY",
        "outputId": "cceccfd9-28da-4202-b21a-9a72e9300fc7"
      },
      "execution_count": null,
      "outputs": [
        {
          "output_type": "execute_result",
          "data": {
            "text/plain": [
              "784"
            ]
          },
          "metadata": {},
          "execution_count": 143
        }
      ]
    },
    {
      "cell_type": "code",
      "source": [
        "def NormalizeData(data):\n",
        "    return (data - np.min(data)) / (np.max(data) - np.min(data))"
      ],
      "metadata": {
        "id": "3rM_Izo82FMr"
      },
      "execution_count": null,
      "outputs": []
    },
    {
      "cell_type": "code",
      "source": [
        "def DeNormalizeData(X,data):\n",
        "    return (X*(np.max(data)-np.min(data))+np.min(data))"
      ],
      "metadata": {
        "id": "EBx7c7CCpqFc"
      },
      "execution_count": null,
      "outputs": []
    },
    {
      "cell_type": "code",
      "source": [
        "for i in range(len(col)): \n",
        "  flatten[i]=NormalizeData(flatten[i])"
      ],
      "metadata": {
        "id": "Y97nIRLP2HCL"
      },
      "execution_count": null,
      "outputs": []
    },
    {
      "cell_type": "code",
      "source": [
        "sum=0"
      ],
      "metadata": {
        "id": "XbKwa5-yP0LA"
      },
      "execution_count": null,
      "outputs": []
    },
    {
      "cell_type": "code",
      "source": [
        "for i in range(len(col)): \n",
        "  sum=sum+flatten[i]\n",
        "sum=sum/len(col)"
      ],
      "metadata": {
        "id": "Bjb4BHRRBVKu"
      },
      "execution_count": null,
      "outputs": []
    },
    {
      "cell_type": "code",
      "source": [
        "sum"
      ],
      "metadata": {
        "id": "k__Za50vC81y"
      },
      "execution_count": null,
      "outputs": []
    },
    {
      "cell_type": "code",
      "source": [
        "# Function for converting decimal to binary\n",
        "def float_bin(my_number, places = 3):\n",
        "    my_whole, my_dec = str(my_number).split(\".\")\n",
        "    my_whole = int(my_whole)\n",
        "    res = (str(bin(my_whole))+\".\").replace('0b','')\n",
        " \n",
        "    for x in range(places):\n",
        "        my_dec = str('0.')+str(my_dec)\n",
        "        temp = '%1.20f' %(float(my_dec)*2)\n",
        "        my_whole, my_dec = temp.split(\".\")\n",
        "        res += my_whole\n",
        "    return res\n",
        " \n",
        " \n",
        " \n",
        "def IEEE754(n) :\n",
        "    # identifying whether the number\n",
        "    # is positive or negative\n",
        "    sign = 0\n",
        "    if n < 0 :\n",
        "        sign = 1\n",
        "        n = n * (-1)\n",
        "    p = 30\n",
        "    # convert float to binary\n",
        "    dec = float_bin (n, places = p)\n",
        " \n",
        "    dotPlace = dec.find('.')\n",
        "    onePlace = dec.find('1')\n",
        "    # finding the mantissa\n",
        "    if onePlace > dotPlace:\n",
        "        dec = dec.replace(\".\",\"\")\n",
        "        onePlace -= 1\n",
        "        dotPlace -= 1\n",
        "    elif onePlace < dotPlace:\n",
        "        dec = dec.replace(\".\",\"\")\n",
        "        dotPlace -= 1\n",
        "    mantissa = dec[onePlace+1:]\n",
        " \n",
        "    # calculating the exponent(E)\n",
        "    exponent = dotPlace - onePlace\n",
        "    exponent_bits = exponent + 127\n",
        " \n",
        "    # converting the exponent from\n",
        "    # decimal to binary\n",
        "    exponent_bits = bin(exponent_bits).replace(\"0b\",'')\n",
        " \n",
        "    mantissa = mantissa[0:23]\n",
        " \n",
        "    # the IEEE754 notation in binary    \n",
        "    final = str(sign) + exponent_bits.zfill(8) + mantissa\n",
        " \n",
        "    # convert the binary to hexadecimal\n",
        "    hstr = '0x%0*X' %((len(final) + 3) // 4, int(final, 2))\n",
        "    return (hstr)"
      ],
      "metadata": {
        "id": "yiUKyid7RqjV"
      },
      "execution_count": null,
      "outputs": []
    },
    {
      "cell_type": "code",
      "source": [
        "def float_to_bin(num):\n",
        "    # Convert a float number to its binary representation\n",
        "    return bin(struct.unpack('!I', struct.pack('!f', num))[0])[2:].zfill(32)\n",
        "    \n",
        "def float_to_hex(num):\n",
        "    # Convert a float number to its hexadecimal representation\n",
        "    return \"0x\" + str(hex(struct.unpack('!I', struct.pack('!f', num))[0])[2:].zfill(8))\n",
        "\n",
        "def ieee_754_hex(num):\n",
        "    # Convert a float number to its IEEE 754 hexadecimal representation\n",
        "    binary = float_to_bin(num)\n",
        "    sign_bit = binary[0]\n",
        "    exponent_bits = binary[1:9]\n",
        "    fraction_bits = binary[9:]\n",
        "    exponent = int(exponent_bits, 2) - 127\n",
        "    mantissa = 1.0\n",
        "    for i in range(len(fraction_bits)):\n",
        "        mantissa += int(fraction_bits[i]) * 2.0 ** (-(i+1))\n",
        "    if sign_bit == '1':\n",
        "        mantissa = -mantissa\n",
        "    hex_mantissa = hex(int(abs(mantissa) * 2 ** 23))[2:].zfill(6)\n",
        "    if mantissa < 0:\n",
        "        hex_mantissa = hex((int(hex_mantissa, 16) ^ int('ffffff', 16)) + 1)[2:].zfill(6)\n",
        "    hex_exponent = hex(exponent + 127)[2:].zfill(2)\n",
        "    hex_sign = sign_bit\n",
        "    return \"0x\" + str((hex_sign + hex_exponent + hex_mantissa).upper())"
      ],
      "metadata": {
        "id": "9y9ObG5sMSyu"
      },
      "execution_count": null,
      "outputs": []
    },
    {
      "cell_type": "code",
      "source": [
        "empty_array = []"
      ],
      "metadata": {
        "id": "umSlqbsDbq9w"
      },
      "execution_count": null,
      "outputs": []
    },
    {
      "cell_type": "code",
      "source": [
        "for i in range(len(sum)):\n",
        "  if sum[i]==0 :\n",
        "    empty_array.append('0x00000000')\n",
        "  else :\n",
        "    #print(flatten[i])\n",
        "    empty_array.append(float_to_hex(float(sum[i])))"
      ],
      "metadata": {
        "id": "sJ1J0igWRyOU"
      },
      "execution_count": null,
      "outputs": []
    },
    {
      "cell_type": "code",
      "source": [
        "print((empty_array))"
      ],
      "metadata": {
        "colab": {
          "base_uri": "https://localhost:8080/"
        },
        "id": "DAPp5zyHbsgS",
        "outputId": "c1d212d8-09a9-47c2-9c2f-ce75630586a3"
      },
      "execution_count": null,
      "outputs": [
        {
          "output_type": "stream",
          "name": "stdout",
          "text": [
            "['0x00000000', '0x00000000', '0x00000000', '0x00000000', '0x00000000', '0x00000000', '0x00000000', '0x00000000', '0x00000000', '0x00000000', '0x00000000', '0x00000000', '0x00000000', '0x00000000', '0x00000000', '0x00000000', '0x00000000', '0x00000000', '0x00000000', '0x00000000', '0x00000000', '0x00000000', '0x00000000', '0x00000000', '0x00000000', '0x00000000', '0x00000000', '0x00000000', '0x00000000', '0x00000000', '0x00000000', '0x00000000', '0x00000000', '0x00000000', '0x00000000', '0x00000000', '0x00000000', '0x00000000', '0x00000000', '0x00000000', '0x00000000', '0x00000000', '0x00000000', '0x00000000', '0x00000000', '0x00000000', '0x00000000', '0x00000000', '0x00000000', '0x00000000', '0x00000000', '0x00000000', '0x00000000', '0x00000000', '0x00000000', '0x00000000', '0x00000000', '0x00000000', '0x00000000', '0x00000000', '0x00000000', '0x00000000', '0x00000000', '0x00000000', '0x00000000', '0x00000000', '0x00000000', '0x00000000', '0x00000000', '0x00000000', '0x00000000', '0x00000000', '0x00000000', '0x00000000', '0x00000000', '0x3a485bb0', '0x3a85bf37', '0x3986457d', '0x00000000', '0x00000000', '0x00000000', '0x00000000', '0x00000000', '0x00000000', '0x00000000', '0x00000000', '0x00000000', '0x00000000', '0x00000000', '0x00000000', '0x00000000', '0x00000000', '0x00000000', '0x395b0cd4', '0x3afe7752', '0x3b1dde61', '0x3b7de701', '0x3c16dd03', '0x3c8ac9aa', '0x3cc113d9', '0x3cdf59c3', '0x3cb4e92c', '0x3c78304b', '0x3c263838', '0x3bc44be1', '0x3b4373ab', '0x3b696534', '0x3b024ec9', '0x39f4071c', '0x00000000', '0x00000000', '0x00000000', '0x00000000', '0x00000000', '0x00000000', '0x3966c76f', '0x398a77a9', '0x39fff476', '0x3aca74c6', '0x3a9d596e', '0x3b075208', '0x3c37ecdf', '0x3d050810', '0x3d84b622', '0x3dec9313', '0x3e37aab1', '0x3e6fbd84', '0x3e8dec85', '0x3e8d8111', '0x3e7041b0', '0x3e37ca7d', '0x3dff611d', '0x3d901463', '0x3d0dffa5', '0x3c881b92', '0x3bdd6668', '0x3b0c4de0', '0x386af99b', '0x00000000', '0x00000000', '0x00000000', '0x00000000', '0x00000000', '0x00000000', '0x00000000', '0x39ae221e', '0x3b136246', '0x3b9dad7c', '0x3c4b85ae', '0x3d31345e', '0x3dcc65a5', '0x3e4854e6', '0x3e9fa284', '0x3edebabf', '0x3f07cbf9', '0x3f152602', '0x3f1554b0', '0x3f0928f8', '0x3ee2a8bf', '0x3ea2f657', '0x3e5321cf', '0x3ddda805', '0x3d56f460', '0x3c7826a5', '0x3b980f16', '0x3aaa7638', '0x00000000', '0x00000000', '0x00000000', '0x00000000', '0x00000000', '0x00000000', '0x3aa7d6dc', '0x3b1eec3f', '0x3ba787d4', '0x3c91bc11', '0x3d4124ee', '0x3dea417c', '0x3e5f33de', '0x3eb8f10e', '0x3effe6e0', '0x3f1c847e', '0x3f31e30f', '0x3f3ba31c', '0x3f39cdca', '0x3f327838', '0x3f216f5b', '0x3f00f1a9', '0x3eb88e20', '0x3e62c290', '0x3dde7ec9', '0x3d06e4da', '0x3bfd33ef', '0x3b003d5e', '0x00000000', '0x00000000', '0x00000000', '0x00000000', '0x00000000', '0x00000000', '0x3a8c0a79', '0x3b830a2f', '0x3c5daf06', '0x3d29942e', '0x3dcf7d13', '0x3e564d0a', '0x3eb3f540', '0x3f01b295', '0x3f1c02bd', '0x3f2dde65', '0x3f385e2c', '0x3f39f89d', '0x3f358c6a', '0x3f337e7d', '0x3f30bd4d', '0x3f2033fb', '0x3effb343', '0x3eb4ca28', '0x3e4786ca', '0x3d8cdbab', '0x3c3c71e7', '0x3aac117d', '0x00000000', '0x00000000', '0x00000000', '0x00000000', '0x00000000', '0x00000000', '0x3b442a4f', '0x3bfc6059', '0x3cd64bed', '0x3dacfc77', '0x3e386311', '0x3ea3c545', '0x3ef80604', '0x3f1c83ea', '0x3f2c9d6a', '0x3f2df5ad', '0x3f23851c', '0x3f1733ab', '0x3f117f7a', '0x3f1618b6', '0x3f21270d', '0x3f2920e8', '0x3f1a0d13', '0x3eea19e6', '0x3e969915', '0x3e023b61', '0x3cc970c1', '0x3a9e8856', '0x00000000', '0x00000000', '0x00000000', '0x00000000', '0x00000000', '0x00000000', '0x3b854123', '0x3c5248ac', '0x3d68c2d5', '0x3e18829e', '0x3e8b57ea', '0x3ee1d88a', '0x3f170407', '0x3f2c6fd1', '0x3f28bc8f', '0x3f14c67f', '0x3ef6d54a', '0x3ecb9e0e', '0x3eb49d30', '0x3ecc941f', '0x3f019464', '0x3f1bfe98', '0x3f21bf7f', '0x3f0c6425', '0x3ec83c54', '0x3e485aa5', '0x3d39ff04', '0x3b090fee', '0x00000000', '0x00000000', '0x00000000', '0x00000000', '0x00000000', '0x00000000', '0x3ba21593', '0x3cdcb3e5', '0x3dcd3392', '0x3e63968b', '0x3ec28a74', '0x3f0dbc5b', '0x3f2ae9e2', '0x3f2a0c07', '0x3f109229', '0x3ee388d9', '0x3ea3953d', '0x3e60c3e9', '0x3e365f92', '0x3e6e6754', '0x3eba5a29', '0x3f05d15d', '0x3f20314d', '0x3f165645', '0x3ef0ffdb', '0x3e845462', '0x3d9f301e', '0x3b456b30', '0x00000000', '0x00000000', '0x00000000', '0x00000000', '0x00000000', '0x38389f8c', '0x3b9a45a5', '0x3d557298', '0x3e2825a9', '0x3ea2a7e6', '0x3efe71ad', '0x3f252019', '0x3f2d1046', '0x3f15f981', '0x3ee2561d', '0x3e96d574', '0x3e2ee83d', '0x3dc2c2cb', '0x3da79662', '0x3df646e4', '0x3e7eb93f', '0x3ee1126b', '0x3f197401', '0x3f1c31a5', '0x3f02eb60', '0x3e9e0aee', '0x3dd7b171', '0x3b932293', '0x00000000', '0x00000000', '0x00000000', '0x00000000', '0x00000000', '0x3a53e5a9', '0x3c4477d2', '0x3db44db9', '0x3e74b70c', '0x3ed36d56', '0x3f17ea55', '0x3f2d8af7', '0x3f21ded5', '0x3ef4a561', '0x3e99012a', '0x3e1c0add', '0x3d7cbfa7', '0x3d0b661a', '0x3d0349d6', '0x3d922e44', '0x3e421a38', '0x3ec6bfcb', '0x3f134d22', '0x3f1e8171', '0x3f0962f0', '0x3eaf093f', '0x3e01835d', '0x3be9ab61', '0x00000000', '0x00000000', '0x00000000', '0x00000000', '0x00000000', '0x3a0fb660', '0x3cb6f437', '0x3e0ffa84', '0x3ea7ebe5', '0x3f02cf25', '0x3f275b1b', '0x3f2b5f9e', '0x3f0d64c6', '0x3eaea61a', '0x3e3740d0', '0x3d76f674', '0x3cb9eff3', '0x3c50bc22', '0x3c16c3d6', '0x3d50bbd6', '0x3e32bf26', '0x3ec2bfb7', '0x3f1079db', '0x3f1e5b42', '0x3f0aa73c', '0x3eb3baa5', '0x3e053f77', '0x3be9ae49', '0x00000000', '0x00000000', '0x00000000', '0x00000000', '0x00000000', '0x00000000', '0x3d0e715a', '0x3e4b8efe', '0x3ece276b', '0x3f15a52b', '0x3f2cfbc6', '0x3f219e5f', '0x3ee0bde0', '0x3e6fab82', '0x3db1f0be', '0x3cb3f096', '0x3c126809', '0x3b8fe3b4', '0x3c0aac31', '0x3d7d1433', '0x3e43c283', '0x3ed4672c', '0x3f164028', '0x3f1f8c15', '0x3f057306', '0x3eac383b', '0x3df6e934', '0x3bf849ab', '0x00000000', '0x00000000', '0x00000000', '0x00000000', '0x00000000', '0x00000000', '0x3d48c908', '0x3e843e6c', '0x3eecb266', '0x3f1f7d44', '0x3f2d5a4d', '0x3f0d9db4', '0x3eadfc78', '0x3e13db9b', '0x3d18ac45', '0x3c46ead7', '0x3bd29313', '0x3b94f951', '0x3cc6f0b8', '0x3dd2c254', '0x3e86017c', '0x3efaa051', '0x3f1fa91d', '0x3f1d1c4e', '0x3ef63e37', '0x3e9657df', '0x3dcfb958', '0x3bf310a3', '0x00000000', '0x00000000', '0x00000000', '0x3945360f', '0x00000000', '0x39d5febf', '0x3d8b5838', '0x3e9ad84a', '0x3f007b9b', '0x3f278eda', '0x3f2b8b14', '0x3efd6163', '0x3e89d0f2', '0x3dbe748c', '0x3cb689e5', '0x3c299b90', '0x3c36275f', '0x3cb6d811', '0x3d96395a', '0x3e3f2bc2', '0x3ec4c993', '0x3f13255b', '0x3f27f7f1', '0x3f1507b8', '0x3ed50727', '0x3e67d9bf', '0x3d8cf64d', '0x3b93830c', '0x00000000', '0x00000000', '0x00000000', '0x00000000', '0x00000000', '0x39b2544a', '0x3db0afcc', '0x3ea7076b', '0x3f06feb7', '0x3f292bb7', '0x3f2640cf', '0x3ef322cb', '0x3e7dcdfc', '0x3dbdf25d', '0x3d09a874', '0x3cdc7225', '0x3d316e30', '0x3db287a8', '0x3e3baf95', '0x3eb4d974', '0x3f0886e7', '0x3f25ed52', '0x3f25325d', '0x3f0229ba', '0x3ea90037', '0x3e232f1a', '0x3d1f0c7e', '0x3b1410fc', '0x00000000', '0x00000000', '0x00000000', '0x00000000', '0x00000000', '0x3a914930', '0x3db6e240', '0x3ea061b3', '0x3f053b77', '0x3f27c073', '0x3f258599', '0x3efcec42', '0x3e96c562', '0x3e1853d0', '0x3dbeefda', '0x3dcb80ea', '0x3e160b44', '0x3e70f6c4', '0x3ebbc2d4', '0x3f07ebb1', '0x3f248623', '0x3f2b2349', '0x3f106f11', '0x3ec78432', '0x3e64d410', '0x3db58249', '0x3c84e381', '0x3a73872e', '0x00000000', '0x00000000', '0x00000000', '0x00000000', '0x00000000', '0x3ab2544a', '0x3da31dc6', '0x3e8e20a9', '0x3ef5bb18', '0x3f2219e6', '0x3f2c3eae', '0x3f15b200', '0x3ed4aa51', '0x3e96c6fc', '0x3e7b8e66', '0x3e8b1cf2', '0x3eaeed7c', '0x3ee69149', '0x3f11ffd0', '0x3f27447b', '0x3f2c8be3', '0x3f18e209', '0x3edd7fdf', '0x3e85e18a', '0x3e01f430', '0x3d25bc3d', '0x3b9f91b5', '0x39629543', '0x00000000', '0x00000000', '0x00000000', '0x00000000', '0x00000000', '0x3b0c4d9c', '0x3d5a714b', '0x3e5b6054', '0x3ecf3572', '0x3f1654a8', '0x3f3175d6', '0x3f30ef38', '0x3f1edf03', '0x3f05ba6f', '0x3efa36d0', '0x3f00bb42', '0x3f10afc5', '0x3f21538c', '0x3f2cab51', '0x3f2bf457', '0x3f18d5ed', '0x3ee0431e', '0x3e906ad5', '0x3e152dd8', '0x3d6e1a3a', '0x3c5f03fd', '0x3a23b6a9', '0x00000000', '0x00000000', '0x00000000', '0x00000000', '0x00000000', '0x00000000', '0x3b4f2d38', '0x3ce31044', '0x3e0723bc', '0x3e97ef4a', '0x3ef2d39e', '0x3f246c2a', '0x3f3ef854', '0x3f455a92', '0x3f3ead70', '0x3f378e52', '0x3f369a0d', '0x3f367d2f', '0x3f33d730', '0x3f28556b', '0x3f10b61c', '0x3ed22fef', '0x3e85ca12', '0x3e1311fe', '0x3d83e243', '0x3c9cd4d0', '0x3b822153', '0x00000000', '0x00000000', '0x00000000', '0x00000000', '0x00000000', '0x00000000', '0x00000000', '0x3a303b34', '0x3c140941', '0x3d737f2f', '0x3e2b91f7', '0x3ea0ca62', '0x3ef12915', '0x3f1fe59e', '0x3f3a8115', '0x3f468476', '0x3f4582e7', '0x3f3e841e', '0x3f313dff', '0x3f19485b', '0x3ef7877d', '0x3ead750f', '0x3e5dfacf', '0x3dfe57cd', '0x3d5ba15f', '0x3c8fbe4e', '0x3b7e2f2a', '0x3a39ac17', '0x00000000', '0x00000000', '0x00000000', '0x00000000', '0x00000000', '0x00000000', '0x00000000', '0x00000000', '0x3a914a3f', '0x3c874dde', '0x3d779fcc', '0x3e075f18', '0x3e79e9e3', '0x3eb8ebaa', '0x3ef05001', '0x3f0b3e72', '0x3f0f9c4f', '0x3f066768', '0x3ee26f82', '0x3eac3930', '0x3e692454', '0x3e13778c', '0x3da2e184', '0x3d06e790', '0x3c291a1e', '0x3b75ba2b', '0x3a32544a', '0x00000000', '0x00000000', '0x00000000', '0x00000000', '0x00000000', '0x00000000', '0x00000000', '0x00000000', '0x00000000', '0x39346d60', '0x3aaa83f6', '0x3bc81ec4', '0x3ca1a1c6', '0x3d2bd739', '0x3d8a6031', '0x3dccc966', '0x3dfa450b', '0x3e08c576', '0x3dfe787a', '0x3dd4adf2', '0x3d9ada23', '0x3d4327a5', '0x3cd589da', '0x3c2be777', '0x3b5252d9', '0x3b0927fb', '0x3aa85d22', '0x00000000', '0x00000000', '0x00000000', '0x00000000', '0x00000000', '0x00000000', '0x00000000', '0x00000000', '0x00000000', '0x00000000', '0x00000000', '0x00000000', '0x39c3e1a0', '0x3a9e6572', '0x3b0c0a79', '0x3b60b97f', '0x3b939cf4', '0x3bafdc2f', '0x3b7e21af', '0x3b5b3d76', '0x3b83e944', '0x3b1d164c', '0x3ab1ce04', '0x39dc4a01', '0x37c9683b', '0x00000000', '0x00000000', '0x00000000', '0x00000000', '0x00000000', '0x00000000', '0x00000000', '0x00000000', '0x00000000', '0x00000000', '0x00000000', '0x00000000', '0x00000000', '0x00000000', '0x00000000', '0x00000000', '0x00000000', '0x00000000', '0x00000000', '0x00000000', '0x00000000', '0x00000000', '0x00000000', '0x00000000', '0x00000000', '0x00000000', '0x00000000', '0x00000000', '0x00000000', '0x00000000', '0x00000000', '0x00000000', '0x00000000', '0x00000000', '0x00000000', '0x00000000', '0x00000000', '0x00000000', '0x00000000', '0x00000000', '0x00000000', '0x00000000', '0x00000000', '0x00000000', '0x00000000', '0x00000000', '0x00000000', '0x00000000', '0x00000000', '0x00000000', '0x00000000', '0x00000000', '0x00000000', '0x00000000', '0x00000000', '0x00000000', '0x00000000', '0x00000000', '0x00000000', '0x00000000', '0x00000000', '0x00000000', '0x00000000', '0x00000000', '0x00000000']\n"
          ]
        }
      ]
    },
    {
      "cell_type": "code",
      "source": [
        "np.savetxt('test.txt', flatten,fmt='%1.3f',newline=' ') "
      ],
      "metadata": {
        "id": "aSunYrLZb6Gg"
      },
      "execution_count": null,
      "outputs": []
    },
    {
      "cell_type": "code",
      "source": [
        "file = open('items.txt','w')\n",
        "for item in empty_array:\n",
        "\tfile.write(item+\"\\n\")\n",
        "file.close()"
      ],
      "metadata": {
        "id": "kEeyNXkCb1SI"
      },
      "execution_count": null,
      "outputs": []
    },
    {
      "cell_type": "code",
      "source": [
        "unflatt=np.reshape(sum, (28,28))"
      ],
      "metadata": {
        "id": "oRlBQVNjWJnN"
      },
      "execution_count": null,
      "outputs": []
    },
    {
      "cell_type": "code",
      "source": [
        "np.shape(unflatt)"
      ],
      "metadata": {
        "id": "yh27L0zcaA28",
        "outputId": "2ea27c76-8641-417b-bd0d-258335b183e8",
        "colab": {
          "base_uri": "https://localhost:8080/"
        }
      },
      "execution_count": null,
      "outputs": [
        {
          "output_type": "execute_result",
          "data": {
            "text/plain": [
              "(28, 28)"
            ]
          },
          "metadata": {},
          "execution_count": 158
        }
      ]
    },
    {
      "cell_type": "code",
      "source": [
        "img = np.zeros([28,28,3])\n",
        "\n",
        "img[:,:,0] = col[0]*64/255.0\n",
        "img[:,:,1] = col[0]*128/255.0\n",
        "img[:,:,2] = col[0]*192/255.0\n",
        "\n",
        "#cv2.imwrite('color_img.jpg', img)\n",
        "#cv2_imshow(img)"
      ],
      "metadata": {
        "id": "jMBiaieTaQJk"
      },
      "execution_count": null,
      "outputs": []
    },
    {
      "cell_type": "code",
      "source": [
        "norm_image = cv2.normalize(unflatt, None, alpha = 0, beta = 255, norm_type = cv2.NORM_MINMAX, dtype = cv2.CV_32F)\n",
        "norm_image = norm_image.astype(np.uint8)"
      ],
      "metadata": {
        "id": "6dvbyR1arUKa"
      },
      "execution_count": null,
      "outputs": []
    },
    {
      "cell_type": "code",
      "source": [
        "norm_image"
      ],
      "metadata": {
        "id": "_eWZn63NrbIp"
      },
      "execution_count": null,
      "outputs": []
    },
    {
      "cell_type": "code",
      "source": [
        "data = im.fromarray(np.reshape(norm_image, (28,28)))\n",
        "data=data.convert('RGB')\n",
        "data.save('gfg_dummy_pic.png')"
      ],
      "metadata": {
        "id": "2pw461bzbaak"
      },
      "execution_count": null,
      "outputs": []
    },
    {
      "cell_type": "code",
      "source": [
        "sum[526]"
      ],
      "metadata": {
        "id": "aDQU1omFbio8",
        "colab": {
          "base_uri": "https://localhost:8080/"
        },
        "outputId": "90c995c7-eff9-49e0-86a0-1044b05e24b4"
      },
      "execution_count": null,
      "outputs": [
        {
          "output_type": "execute_result",
          "data": {
            "text/plain": [
              "0.22346519710246335"
            ]
          },
          "metadata": {},
          "execution_count": 163
        }
      ]
    },
    {
      "cell_type": "code",
      "source": [
        "empty_array[710]"
      ],
      "metadata": {
        "colab": {
          "base_uri": "https://localhost:8080/",
          "height": 35
        },
        "id": "3_kBV2uGGELY",
        "outputId": "c15e4732-56ae-4142-a205-12b73f57ec85"
      },
      "execution_count": null,
      "outputs": [
        {
          "output_type": "execute_result",
          "data": {
            "text/plain": [
              "'0x3b939cf4'"
            ],
            "application/vnd.google.colaboratory.intrinsic+json": {
              "type": "string"
            }
          },
          "metadata": {},
          "execution_count": 164
        }
      ]
    },
    {
      "cell_type": "code",
      "source": [
        "suppressedNum=f\"{2.10557481743e-38:.8f}\"\n",
        "print(suppressedNum)"
      ],
      "metadata": {
        "colab": {
          "base_uri": "https://localhost:8080/"
        },
        "id": "vkGP6j-UGGAP",
        "outputId": "7ec120e9-c331-44e3-f725-7344b8e47c71"
      },
      "execution_count": null,
      "outputs": [
        {
          "output_type": "stream",
          "name": "stdout",
          "text": [
            "0.00000000\n"
          ]
        }
      ]
    },
    {
      "cell_type": "code",
      "source": [
        "len(sum)"
      ],
      "metadata": {
        "colab": {
          "base_uri": "https://localhost:8080/"
        },
        "id": "uk64kTnIgbKC",
        "outputId": "17acad18-9797-45a3-e081-f0df2e879210"
      },
      "execution_count": null,
      "outputs": [
        {
          "output_type": "execute_result",
          "data": {
            "text/plain": [
              "784"
            ]
          },
          "metadata": {},
          "execution_count": 166
        }
      ]
    },
    {
      "cell_type": "code",
      "source": [],
      "metadata": {
        "id": "JndRoB8bgeFA"
      },
      "execution_count": null,
      "outputs": []
    }
  ]
}