{
  "cells": [
    {
      "cell_type": "markdown",
      "metadata": {
        "id": "view-in-github",
        "colab_type": "text"
      },
      "source": [
        "<a href=\"https://colab.research.google.com/github/arashkhgit/Data-Engineering/blob/main/AWGN_Motionblure_noise.ipynb\" target=\"_parent\"><img src=\"https://colab.research.google.com/assets/colab-badge.svg\" alt=\"Open In Colab\"/></a>"
      ]
    },
    {
      "cell_type": "code",
      "execution_count": 1,
      "metadata": {
        "id": "B17W8il9Mife"
      },
      "outputs": [],
      "source": [
        "import os\n",
        "import numpy as np\n",
        "import PIL\n",
        "from PIL import Image\n",
        "\n",
        "# Set the paths to the input and output directories\n",
        "input_dir = '/content/'\n",
        "output_dir = '/content/'\n",
        "\n",
        "# Set the standard deviation of the noise\n",
        "sigma = 70\n",
        "\n",
        "# Create the output directory if it does not exist\n",
        "if not os.path.exists(output_dir):\n",
        "    os.makedirs(output_dir)\n",
        "\n",
        "# Loop through all the PNG files in the input directory\n",
        "for filename in os.listdir(input_dir):\n",
        "    if filename.endswith('.png'):\n",
        "        # Load the input image\n",
        "        image_path = os.path.join(input_dir, filename)\n",
        "        image = Image.open(image_path)\n",
        "\n",
        "        # Convert the image to a NumPy array and add noise\n",
        "        np_image = np.array(image)\n",
        "        noise = np.random.normal(scale=sigma, size=np_image.shape)\n",
        "        noisy_image = np_image + noise\n",
        "        noisy_image = np.clip(noisy_image, 0, 255).astype(np.uint8)\n",
        "\n",
        "        # Convert the noisy image back to a PIL Image and save it\n",
        "        noisy_image = Image.fromarray(noisy_image)\n",
        "        output_path = os.path.join(output_dir, filename)\n",
        "        noisy_image.save(output_path)\n"
      ]
    },
    {
      "cell_type": "code",
      "source": [
        "!pip install --upgrade Pillow"
      ],
      "metadata": {
        "colab": {
          "base_uri": "https://localhost:8080/"
        },
        "id": "tbyumd-A_iRl",
        "outputId": "89e3ea68-14fd-4ce0-d820-54b85d68a938"
      },
      "execution_count": 2,
      "outputs": [
        {
          "output_type": "stream",
          "name": "stdout",
          "text": [
            "Looking in indexes: https://pypi.org/simple, https://us-python.pkg.dev/colab-wheels/public/simple/\n",
            "Requirement already satisfied: Pillow in /usr/local/lib/python3.9/dist-packages (9.5.0)\n"
          ]
        }
      ]
    },
    {
      "cell_type": "code",
      "source": [
        "PIL.__version__"
      ],
      "metadata": {
        "colab": {
          "base_uri": "https://localhost:8080/",
          "height": 35
        },
        "id": "hf26YRU__6JH",
        "outputId": "755039b7-d62e-4300-f0fb-5233c98177ae"
      },
      "execution_count": 3,
      "outputs": [
        {
          "output_type": "execute_result",
          "data": {
            "text/plain": [
              "'9.5.0'"
            ],
            "application/vnd.google.colaboratory.intrinsic+json": {
              "type": "string"
            }
          },
          "metadata": {},
          "execution_count": 3
        }
      ]
    },
    {
      "cell_type": "code",
      "source": [
        "from PIL import Image, ImageFilter\n",
        "import numpy as np\n",
        "import os\n",
        "\n",
        "# Set the paths to the input and output directories\n",
        "input_dir = '/content/'\n",
        "output_dir = '/content/'\n",
        "\n",
        "# Set the motion blur radius and angle\n",
        "radius = 3\n",
        "\n",
        "\n",
        "# Create the output directory if it does not exist\n",
        "if not os.path.exists(output_dir):\n",
        "    os.makedirs(output_dir)\n",
        "\n",
        "# Loop through all the PNG files in the input directory\n",
        "for filename in os.listdir(input_dir):\n",
        "    if filename.endswith('.png'):\n",
        "        # Load the input image\n",
        "        image_path = os.path.join(input_dir, filename)\n",
        "        image = Image.open(image_path)\n",
        "\n",
        "        # Apply motion blur effect\n",
        "        motion_blur = ImageFilter.GaussianBlur(radius=radius)\n",
        "        blurred_image = image.filter(motion_blur)\n",
        "\n",
        "        # Save the blurred image\n",
        "        output_path = os.path.join(output_dir, filename)\n",
        "        blurred_image.save(output_path)"
      ],
      "metadata": {
        "id": "5jaaUx5e-DgJ"
      },
      "execution_count": 19,
      "outputs": []
    }
  ],
  "metadata": {
    "accelerator": "GPU",
    "colab": {
      "provenance": [],
      "authorship_tag": "ABX9TyM8rNwKgqw7bdQlkovh6n2/",
      "include_colab_link": true
    },
    "gpuClass": "standard",
    "kernelspec": {
      "display_name": "Python 3",
      "name": "python3"
    },
    "language_info": {
      "name": "python"
    }
  },
  "nbformat": 4,
  "nbformat_minor": 0
}