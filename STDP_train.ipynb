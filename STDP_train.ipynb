{
  "nbformat": 4,
  "nbformat_minor": 0,
  "metadata": {
    "colab": {
      "provenance": [],
      "authorship_tag": "ABX9TyOugFJWdgTe8iLLH9iaTn6y",
      "include_colab_link": true
    },
    "kernelspec": {
      "name": "python3",
      "display_name": "Python 3"
    },
    "language_info": {
      "name": "python"
    }
  },
  "cells": [
    {
      "cell_type": "markdown",
      "metadata": {
        "id": "view-in-github",
        "colab_type": "text"
      },
      "source": [
        "<a href=\"https://colab.research.google.com/github/arashkhgit/Data-Engineering/blob/main/STDP_train.ipynb\" target=\"_parent\"><img src=\"https://colab.research.google.com/assets/colab-badge.svg\" alt=\"Open In Colab\"/></a>"
      ]
    },
    {
      "cell_type": "code",
      "execution_count": 164,
      "metadata": {
        "id": "03r5TkN65u_N"
      },
      "outputs": [],
      "source": [
        "from skimage.io import imread_collection\n",
        "from skimage.io import imshow_collection\n",
        "import cv2\n",
        "from google.colab.patches import cv2_imshow\n",
        "import numpy as np\n",
        "\n",
        "i=6\n",
        "#your path \n",
        "col_dir = '/content/*.png'\n",
        "\n",
        "#creating a collection with the available images\n",
        "col = imread_collection(col_dir)"
      ]
    },
    {
      "cell_type": "code",
      "source": [
        "len(col)"
      ],
      "metadata": {
        "colab": {
          "base_uri": "https://localhost:8080/"
        },
        "id": "qMcuSchvM3pp",
        "outputId": "20162814-b22e-4cc3-d320-8b27cb2ccf46"
      },
      "execution_count": 165,
      "outputs": [
        {
          "output_type": "execute_result",
          "data": {
            "text/plain": [
              "6"
            ]
          },
          "metadata": {},
          "execution_count": 165
        }
      ]
    },
    {
      "cell_type": "code",
      "source": [
        "col[0].shape"
      ],
      "metadata": {
        "colab": {
          "base_uri": "https://localhost:8080/"
        },
        "id": "f0dGxw7c6DdK",
        "outputId": "3152cbfc-58a6-4f4f-9653-85a25f3a2602"
      },
      "execution_count": 166,
      "outputs": [
        {
          "output_type": "execute_result",
          "data": {
            "text/plain": [
              "(28, 28)"
            ]
          },
          "metadata": {},
          "execution_count": 166
        }
      ]
    },
    {
      "cell_type": "code",
      "source": [
        "for i in range(len(col)):\n",
        "  cv2_imshow(col[i])"
      ],
      "metadata": {
        "colab": {
          "base_uri": "https://localhost:8080/",
          "height": 185
        },
        "id": "e8JJyPVb6E1K",
        "outputId": "8dd7181a-c925-4652-9d31-f975ab8c1bc3"
      },
      "execution_count": 167,
      "outputs": [
        {
          "output_type": "display_data",
          "data": {
            "text/plain": [
              "<PIL.Image.Image image mode=L size=28x28 at 0x7F61FCE27E80>"
            ],
            "image/png": "[encoded data removed]"
          },
          "metadata": {}
        },
        {
          "output_type": "display_data",
          "data": {
            "text/plain": [
              "<PIL.Image.Image image mode=L size=28x28 at 0x7F61FCE27E80>"
            ],
            "image/png": "[encoded data removed]"
          },
          "metadata": {}
        },
        {
          "output_type": "display_data",
          "data": {
            "text/plain": [
              "<PIL.Image.Image image mode=L size=28x28 at 0x7F61FCE27E80>"
            ],
            "image/png": "[encoded data removed]"
          },
          "metadata": {}
        },
        {
          "output_type": "display_data",
          "data": {
            "text/plain": [
              "<PIL.Image.Image image mode=L size=28x28 at 0x7F61FCE27E80>"
            ],
            "image/png": "[encoded data removed]"
          },
          "metadata": {}
        },
        {
          "output_type": "display_data",
          "data": {
            "text/plain": [
              "<PIL.Image.Image image mode=L size=28x28 at 0x7F61FCE27E80>"
            ],
            "image/png": "[encoded data removed]"
          },
          "metadata": {}
        },
        {
          "output_type": "display_data",
          "data": {
            "text/plain": [
              "<PIL.Image.Image image mode=L size=28x28 at 0x7F61FCE27E80>"
            ],
            "image/png": "[encoded data removed]"
          },
          "metadata": {}
        }
      ]
    },
    {
      "cell_type": "code",
      "source": [
        "flatten=[]"
      ],
      "metadata": {
        "id": "16j8PAn-vliv"
      },
      "execution_count": 168,
      "outputs": []
    },
    {
      "cell_type": "code",
      "source": [
        "for i in range(len(col)): \n",
        "  flatten.append(col[i].flatten())"
      ],
      "metadata": {
        "id": "UgBCtL6UMK08"
      },
      "execution_count": 169,
      "outputs": []
    },
    {
      "cell_type": "code",
      "source": [
        "len(flatten[0])"
      ],
      "metadata": {
        "colab": {
          "base_uri": "https://localhost:8080/"
        },
        "id": "6-18Ams4RCLY",
        "outputId": "35a707aa-75f9-4bca-8a1e-fd692170827d"
      },
      "execution_count": 170,
      "outputs": [
        {
          "output_type": "execute_result",
          "data": {
            "text/plain": [
              "784"
            ]
          },
          "metadata": {},
          "execution_count": 170
        }
      ]
    },
    {
      "cell_type": "code",
      "source": [
        "def NormalizeData(data):\n",
        "    return (data - np.min(data)) / (np.max(data) - np.min(data))"
      ],
      "metadata": {
        "id": "3rM_Izo82FMr"
      },
      "execution_count": 171,
      "outputs": []
    },
    {
      "cell_type": "code",
      "source": [
        "for i in range(len(col)): \n",
        "  flatten[i]=NormalizeData(flatten[i])"
      ],
      "metadata": {
        "id": "Y97nIRLP2HCL"
      },
      "execution_count": 172,
      "outputs": []
    },
    {
      "cell_type": "code",
      "source": [
        "sum=0"
      ],
      "metadata": {
        "id": "XbKwa5-yP0LA"
      },
      "execution_count": 173,
      "outputs": []
    },
    {
      "cell_type": "code",
      "source": [
        "for i in range(len(col)): \n",
        "  sum=sum+flatten[i]\n",
        "sum=sum/len(col)"
      ],
      "metadata": {
        "id": "Bjb4BHRRBVKu"
      },
      "execution_count": 174,
      "outputs": []
    },
    {
      "cell_type": "code",
      "source": [
        "sum"
      ],
      "metadata": {
        "colab": {
          "base_uri": "https://localhost:8080/"
        },
        "id": "k__Za50vC81y",
        "outputId": "75cdc64d-bb1d-41e2-88e9-ea3bc9d49231"
      },
      "execution_count": 175,
      "outputs": [
        {
          "output_type": "execute_result",
          "data": {
            "text/plain": [
              "array([0.        , 0.        , 0.        , 0.        , 0.        ,\n",
              "       0.        , 0.        , 0.        , 0.        , 0.        ,\n",
              "       0.        , 0.        , 0.        , 0.        , 0.        ,\n",
              "       0.        , 0.        , 0.        , 0.        , 0.        ,\n",
              "       0.        , 0.        , 0.        , 0.        , 0.        ,\n",
              "       0.        , 0.        , 0.        , 0.        , 0.        ,\n",
              "       0.        , 0.        , 0.        , 0.        , 0.        ,\n",
              "       0.        , 0.        , 0.        , 0.        , 0.        ,\n",
              "       0.        , 0.        , 0.        , 0.        , 0.        ,\n",
              "       0.        , 0.        , 0.        , 0.        , 0.        ,\n",
              "       0.        , 0.        , 0.        , 0.        , 0.        ,\n",
              "       0.        , 0.        , 0.        , 0.        , 0.        ,\n",
              "       0.        , 0.        , 0.        , 0.        , 0.        ,\n",
              "       0.        , 0.        , 0.        , 0.        , 0.        ,\n",
              "       0.        , 0.        , 0.        , 0.        , 0.        ,\n",
              "       0.        , 0.        , 0.        , 0.        , 0.        ,\n",
              "       0.        , 0.        , 0.        , 0.        , 0.        ,\n",
              "       0.        , 0.        , 0.        , 0.        , 0.        ,\n",
              "       0.        , 0.        , 0.        , 0.        , 0.        ,\n",
              "       0.        , 0.        , 0.        , 0.        , 0.        ,\n",
              "       0.        , 0.        , 0.        , 0.        , 0.        ,\n",
              "       0.        , 0.        , 0.        , 0.        , 0.        ,\n",
              "       0.        , 0.        , 0.        , 0.        , 0.        ,\n",
              "       0.        , 0.        , 0.        , 0.        , 0.        ,\n",
              "       0.        , 0.        , 0.        , 0.03986928, 0.00915033,\n",
              "       0.12745098, 0.29477124, 0.38562092, 0.15294118, 0.12941176,\n",
              "       0.09215686, 0.05228758, 0.00915033, 0.        , 0.        ,\n",
              "       0.        , 0.        , 0.        , 0.        , 0.        ,\n",
              "       0.        , 0.        , 0.        , 0.        , 0.        ,\n",
              "       0.        , 0.        , 0.        , 0.        , 0.03006536,\n",
              "       0.28366013, 0.33267974, 0.3751634 , 0.53986928, 0.81960784,\n",
              "       0.97908497, 0.83464052, 0.61111111, 0.47973856, 0.33464052,\n",
              "       0.15424837, 0.        , 0.        , 0.        , 0.        ,\n",
              "       0.        , 0.        , 0.        , 0.        , 0.        ,\n",
              "       0.        , 0.        , 0.        , 0.        , 0.        ,\n",
              "       0.        , 0.        , 0.12679739, 0.3751634 , 0.51568627,\n",
              "       0.77385621, 0.75620915, 0.9496732 , 0.94248366, 0.84640523,\n",
              "       0.77843137, 0.74117647, 0.51372549, 0.32287582, 0.18496732,\n",
              "       0.0372549 , 0.        , 0.        , 0.        , 0.        ,\n",
              "       0.        , 0.        , 0.        , 0.        , 0.        ,\n",
              "       0.        , 0.        , 0.        , 0.        , 0.02810458,\n",
              "       0.25490196, 0.55816993, 0.83006536, 0.75490196, 0.68039216,\n",
              "       0.77189542, 0.71699346, 0.64248366, 0.73333333, 0.78431373,\n",
              "       0.75359477, 0.35163399, 0.27843137, 0.0503268 , 0.        ,\n",
              "       0.        , 0.        , 0.        , 0.        , 0.        ,\n",
              "       0.        , 0.        , 0.        , 0.        , 0.        ,\n",
              "       0.        , 0.00718954, 0.12875817, 0.35620915, 0.68169935,\n",
              "       0.76143791, 0.75490196, 0.65620915, 0.46339869, 0.4627451 ,\n",
              "       0.58235294, 0.75947712, 0.80392157, 0.72614379, 0.39673203,\n",
              "       0.33137255, 0.1875817 , 0.        , 0.        , 0.        ,\n",
              "       0.        , 0.        , 0.        , 0.        , 0.        ,\n",
              "       0.        , 0.        , 0.        , 0.        , 0.09607843,\n",
              "       0.23464052, 0.56666667, 0.71503268, 0.77712418, 0.77058824,\n",
              "       0.50130719, 0.22156863, 0.17058824, 0.34052288, 0.53594771,\n",
              "       0.71045752, 0.7875817 , 0.64705882, 0.34117647, 0.2620915 ,\n",
              "       0.0503268 , 0.        , 0.        , 0.        , 0.        ,\n",
              "       0.        , 0.        , 0.        , 0.        , 0.        ,\n",
              "       0.00588235, 0.08888889, 0.16339869, 0.39411765, 0.64444444,\n",
              "       0.76013072, 0.82222222, 0.71437908, 0.38823529, 0.13856209,\n",
              "       0.0503268 , 0.0503268 , 0.23921569, 0.53202614, 0.67581699,\n",
              "       0.77058824, 0.44771242, 0.30457516, 0.10196078, 0.        ,\n",
              "       0.        , 0.        , 0.        , 0.        , 0.        ,\n",
              "       0.        , 0.        , 0.        , 0.05228758, 0.16535948,\n",
              "       0.20849673, 0.56862745, 0.67124183, 0.80980392, 0.78039216,\n",
              "       0.5248366 , 0.18169935, 0.00653595, 0.        , 0.        ,\n",
              "       0.06405229, 0.36470588, 0.63071895, 0.73267974, 0.60915033,\n",
              "       0.30784314, 0.12810458, 0.02156863, 0.        , 0.        ,\n",
              "       0.        , 0.        , 0.        , 0.        , 0.        ,\n",
              "       0.        , 0.05620915, 0.16535948, 0.28431373, 0.63921569,\n",
              "       0.69934641, 0.82026144, 0.63071895, 0.22091503, 0.        ,\n",
              "       0.        , 0.        , 0.        , 0.        , 0.23071895,\n",
              "       0.56993464, 0.74313725, 0.72679739, 0.32745098, 0.16535948,\n",
              "       0.05098039, 0.        , 0.        , 0.        , 0.        ,\n",
              "       0.        , 0.        , 0.        , 0.        , 0.16601307,\n",
              "       0.16535948, 0.3751634 , 0.68039216, 0.70718954, 0.74771242,\n",
              "       0.34771242, 0.16535948, 0.        , 0.        , 0.        ,\n",
              "       0.        , 0.        , 0.11503268, 0.5372549 , 0.85424837,\n",
              "       0.7379085 , 0.34379085, 0.16535948, 0.05098039, 0.        ,\n",
              "       0.        , 0.        , 0.        , 0.        , 0.        ,\n",
              "       0.        , 0.        , 0.16601307, 0.16535948, 0.40915033,\n",
              "       0.72287582, 0.75294118, 0.43921569, 0.17647059, 0.16470588,\n",
              "       0.        , 0.        , 0.        , 0.        , 0.        ,\n",
              "       0.11568627, 0.5379085 , 0.85490196, 0.75816993, 0.45686275,\n",
              "       0.16535948, 0.05098039, 0.        , 0.        , 0.        ,\n",
              "       0.        , 0.        , 0.        , 0.        , 0.        ,\n",
              "       0.16601307, 0.17254902, 0.49607843, 0.77385621, 0.78169935,\n",
              "       0.22810458, 0.14640523, 0.10980392, 0.        , 0.        ,\n",
              "       0.        , 0.        , 0.02745098, 0.31568627, 0.73071895,\n",
              "       0.88169935, 0.75751634, 0.37254902, 0.10392157, 0.00196078,\n",
              "       0.        , 0.        , 0.        , 0.        , 0.        ,\n",
              "       0.        , 0.        , 0.        , 0.16601307, 0.22941176,\n",
              "       0.60588235, 0.78954248, 0.79607843, 0.2254902 , 0.10980392,\n",
              "       0.        , 0.        , 0.        , 0.06470588, 0.11111111,\n",
              "       0.17843137, 0.41111111, 0.73529412, 0.93202614, 0.74313725,\n",
              "       0.35947712, 0.04248366, 0.        , 0.        , 0.        ,\n",
              "       0.        , 0.        , 0.        , 0.        , 0.        ,\n",
              "       0.        , 0.16666667, 0.22941176, 0.60588235, 0.78954248,\n",
              "       0.80261438, 0.26078431, 0.14444444, 0.03464052, 0.11764706,\n",
              "       0.14901961, 0.15947712, 0.25947712, 0.32941176, 0.46535948,\n",
              "       0.76928105, 0.92026144, 0.59934641, 0.13202614, 0.        ,\n",
              "       0.        , 0.        , 0.        , 0.        , 0.        ,\n",
              "       0.        , 0.        , 0.        , 0.        , 0.10653595,\n",
              "       0.22941176, 0.60588235, 0.78954248, 0.8248366 , 0.41764706,\n",
              "       0.22614379, 0.16535948, 0.16535948, 0.16535948, 0.28431373,\n",
              "       0.30980392, 0.32941176, 0.53071895, 0.90457516, 0.8       ,\n",
              "       0.3372549 , 0.02156863, 0.        , 0.        , 0.        ,\n",
              "       0.        , 0.        , 0.        , 0.        , 0.        ,\n",
              "       0.        , 0.        , 0.05228758, 0.20849673, 0.50915033,\n",
              "       0.77777778, 0.82614379, 0.63137255, 0.27058824, 0.31437908,\n",
              "       0.33071895, 0.33071895, 0.33202614, 0.33071895, 0.33921569,\n",
              "       0.65490196, 0.96470588, 0.54509804, 0.05686275, 0.        ,\n",
              "       0.        , 0.        , 0.        , 0.        , 0.        ,\n",
              "       0.        , 0.        , 0.        , 0.        , 0.        ,\n",
              "       0.02875817, 0.1372549 , 0.39150327, 0.69477124, 0.83856209,\n",
              "       0.82026144, 0.61633987, 0.40784314, 0.32941176, 0.37777778,\n",
              "       0.42614379, 0.49411765, 0.70915033, 0.90784314, 0.72875817,\n",
              "       0.1745098 , 0.        , 0.        , 0.        , 0.        ,\n",
              "       0.        , 0.        , 0.        , 0.        , 0.        ,\n",
              "       0.        , 0.        , 0.        , 0.        , 0.0248366 ,\n",
              "       0.31045752, 0.60784314, 0.85228758, 0.94444444, 0.80261438,\n",
              "       0.62026144, 0.59738562, 0.62091503, 0.69281046, 0.76862745,\n",
              "       0.81764706, 0.6745098 , 0.34705882, 0.03398693, 0.        ,\n",
              "       0.        , 0.        , 0.        , 0.        , 0.        ,\n",
              "       0.        , 0.        , 0.        , 0.        , 0.        ,\n",
              "       0.        , 0.        , 0.        , 0.07843137, 0.37385621,\n",
              "       0.6248366 , 0.96013072, 0.98235294, 0.88888889, 0.77124183,\n",
              "       0.80784314, 0.80980392, 0.69869281, 0.60784314, 0.33856209,\n",
              "       0.09150327, 0.        , 0.        , 0.        , 0.        ,\n",
              "       0.        , 0.        , 0.        , 0.        , 0.        ,\n",
              "       0.        , 0.        , 0.        , 0.        , 0.        ,\n",
              "       0.        , 0.        , 0.04640523, 0.23464052, 0.64575163,\n",
              "       0.89084967, 0.93398693, 0.79607843, 0.66078431, 0.64705882,\n",
              "       0.55751634, 0.25882353, 0.11633987, 0.02287582, 0.        ,\n",
              "       0.        , 0.        , 0.        , 0.        , 0.        ,\n",
              "       0.        , 0.        , 0.        , 0.        , 0.        ,\n",
              "       0.        , 0.        , 0.        , 0.        , 0.        ,\n",
              "       0.        , 0.01045752, 0.0379085 , 0.10980392, 0.33202614,\n",
              "       0.39019608, 0.34509804, 0.16013072, 0.10261438, 0.03594771,\n",
              "       0.00261438, 0.        , 0.        , 0.        , 0.        ,\n",
              "       0.        , 0.        , 0.        , 0.        , 0.        ,\n",
              "       0.        , 0.        , 0.        , 0.        , 0.        ,\n",
              "       0.        , 0.        , 0.        , 0.        , 0.        ,\n",
              "       0.        , 0.        , 0.        , 0.        , 0.        ,\n",
              "       0.        , 0.        , 0.        , 0.        , 0.        ,\n",
              "       0.        , 0.        , 0.        , 0.        , 0.        ,\n",
              "       0.        , 0.        , 0.        , 0.        , 0.        ,\n",
              "       0.        , 0.        , 0.        , 0.        , 0.        ,\n",
              "       0.        , 0.        , 0.        , 0.        , 0.        ,\n",
              "       0.        , 0.        , 0.        , 0.        , 0.        ,\n",
              "       0.        , 0.        , 0.        , 0.        , 0.        ,\n",
              "       0.        , 0.        , 0.        , 0.        , 0.        ,\n",
              "       0.        , 0.        , 0.        , 0.        , 0.        ,\n",
              "       0.        , 0.        , 0.        , 0.        , 0.        ,\n",
              "       0.        , 0.        , 0.        , 0.        , 0.        ,\n",
              "       0.        , 0.        , 0.        , 0.        , 0.        ,\n",
              "       0.        , 0.        , 0.        , 0.        , 0.        ,\n",
              "       0.        , 0.        , 0.        , 0.        ])"
            ]
          },
          "metadata": {},
          "execution_count": 175
        }
      ]
    },
    {
      "cell_type": "code",
      "source": [
        "# Function for converting decimal to binary\n",
        "def float_bin(my_number, places = 3):\n",
        "    my_whole, my_dec = str(my_number).split(\".\")\n",
        "    my_whole = int(my_whole)\n",
        "    res = (str(bin(my_whole))+\".\").replace('0b','')\n",
        " \n",
        "    for x in range(places):\n",
        "        my_dec = str('0.')+str(my_dec)\n",
        "        temp = '%1.20f' %(float(my_dec)*2)\n",
        "        my_whole, my_dec = temp.split(\".\")\n",
        "        res += my_whole\n",
        "    return res\n",
        " \n",
        " \n",
        " \n",
        "def IEEE754(n) :\n",
        "    # identifying whether the number\n",
        "    # is positive or negative\n",
        "    sign = 0\n",
        "    if n < 0 :\n",
        "        sign = 1\n",
        "        n = n * (-1)\n",
        "    p = 30\n",
        "    # convert float to binary\n",
        "    dec = float_bin (n, places = p)\n",
        " \n",
        "    dotPlace = dec.find('.')\n",
        "    onePlace = dec.find('1')\n",
        "    # finding the mantissa\n",
        "    if onePlace > dotPlace:\n",
        "        dec = dec.replace(\".\",\"\")\n",
        "        onePlace -= 1\n",
        "        dotPlace -= 1\n",
        "    elif onePlace < dotPlace:\n",
        "        dec = dec.replace(\".\",\"\")\n",
        "        dotPlace -= 1\n",
        "    mantissa = dec[onePlace+1:]\n",
        " \n",
        "    # calculating the exponent(E)\n",
        "    exponent = dotPlace - onePlace\n",
        "    exponent_bits = exponent + 127\n",
        " \n",
        "    # converting the exponent from\n",
        "    # decimal to binary\n",
        "    exponent_bits = bin(exponent_bits).replace(\"0b\",'')\n",
        " \n",
        "    mantissa = mantissa[0:23]\n",
        " \n",
        "    # the IEEE754 notation in binary    \n",
        "    final = str(sign) + exponent_bits.zfill(8) + mantissa\n",
        " \n",
        "    # convert the binary to hexadecimal\n",
        "    hstr = '0x%0*X' %((len(final) + 3) // 4, int(final, 2))\n",
        "    return (hstr)"
      ],
      "metadata": {
        "id": "yiUKyid7RqjV"
      },
      "execution_count": 176,
      "outputs": []
    },
    {
      "cell_type": "code",
      "source": [
        "empty_array = []"
      ],
      "metadata": {
        "id": "umSlqbsDbq9w"
      },
      "execution_count": 177,
      "outputs": []
    },
    {
      "cell_type": "code",
      "source": [
        "for i in range(len(sum)):\n",
        "  if sum[i]==0 :\n",
        "    empty_array.append('0x00000000')\n",
        "  else :\n",
        "    #print(flatten[i])\n",
        "    empty_array.append(IEEE754(float(sum[i])))"
      ],
      "metadata": {
        "id": "sJ1J0igWRyOU"
      },
      "execution_count": 178,
      "outputs": []
    },
    {
      "cell_type": "code",
      "source": [
        "print((empty_array))"
      ],
      "metadata": {
        "colab": {
          "base_uri": "https://localhost:8080/"
        },
        "id": "DAPp5zyHbsgS",
        "outputId": "1a134e2c-9eb1-4a5e-b38a-27b5791170b6"
      },
      "execution_count": 179,
      "outputs": [
        {
          "output_type": "stream",
          "name": "stdout",
          "text": [
            "['0x00000000', '0x00000000', '0x00000000', '0x00000000', '0x00000000', '0x00000000', '0x00000000', '0x00000000', '0x00000000', '0x00000000', '0x00000000', '0x00000000', '0x00000000', '0x00000000', '0x00000000', '0x00000000', '0x00000000', '0x00000000', '0x00000000', '0x00000000', '0x00000000', '0x00000000', '0x00000000', '0x00000000', '0x00000000', '0x00000000', '0x00000000', '0x00000000', '0x00000000', '0x00000000', '0x00000000', '0x00000000', '0x00000000', '0x00000000', '0x00000000', '0x00000000', '0x00000000', '0x00000000', '0x00000000', '0x00000000', '0x00000000', '0x00000000', '0x00000000', '0x00000000', '0x00000000', '0x00000000', '0x00000000', '0x00000000', '0x00000000', '0x00000000', '0x00000000', '0x00000000', '0x00000000', '0x00000000', '0x00000000', '0x00000000', '0x00000000', '0x00000000', '0x00000000', '0x00000000', '0x00000000', '0x00000000', '0x00000000', '0x00000000', '0x00000000', '0x00000000', '0x00000000', '0x00000000', '0x00000000', '0x00000000', '0x00000000', '0x00000000', '0x00000000', '0x00000000', '0x00000000', '0x00000000', '0x00000000', '0x00000000', '0x00000000', '0x00000000', '0x00000000', '0x00000000', '0x00000000', '0x00000000', '0x00000000', '0x00000000', '0x00000000', '0x00000000', '0x00000000', '0x00000000', '0x00000000', '0x00000000', '0x00000000', '0x00000000', '0x00000000', '0x00000000', '0x00000000', '0x00000000', '0x00000000', '0x00000000', '0x00000000', '0x00000000', '0x00000000', '0x00000000', '0x00000000', '0x00000000', '0x00000000', '0x00000000', '0x00000000', '0x00000000', '0x00000000', '0x00000000', '0x00000000', '0x00000000', '0x00000000', '0x00000000', '0x00000000', '0x00000000', '0x00000000', '0x00000000', '0x00000000', '0x00000000', '0x00000000', '0x3D234DF8', '0x3C15EB40', '0x3E028282', '0x3E96EC41', '0x3EC5701A', '0x3E1C9C9C', '0x3E048484', '0x3DBCBCBC', '0x3D562B80', '0x3C15EB40', '0x00000000', '0x00000000', '0x00000000', '0x00000000', '0x00000000', '0x00000000', '0x00000000', '0x00000000', '0x00000000', '0x00000000', '0x00000000', '0x00000000', '0x00000000', '0x00000000', '0x00000000', '0x00000000', '0x3CF64BA0', '0x3E913BE6', '0x3EAA54FF', '0x3EC0156A', '0x3F0A34DF', '0x3F51D1D1', '0x3F7AA54F', '0x3F55AB00', '0x3F1C71C7', '0x3EF5A04A', '0x3EAB5600', '0x3E1DF348', '0x00000000', '0x00000000', '0x00000000', '0x00000000', '0x00000000', '0x00000000', '0x00000000', '0x00000000', '0x00000000', '0x00000000', '0x00000000', '0x00000000', '0x00000000', '0x00000000', '0x00000000', '0x00000000', '0x3E01D72C', '0x3EC0156A', '0x3F040404', '0x3F461B70', '0x3F4196EC', '0x3F731DC8', '0x3F71469B', '0x3F58AE03', '0x3F474747', '0x3F3DBDBD', '0x3F038383', '0x3EA54FFA', '0x3E3D6812', '0x3D189898', '0x00000000', '0x00000000', '0x00000000', '0x00000000', '0x00000000', '0x00000000', '0x00000000', '0x00000000', '0x00000000', '0x00000000', '0x00000000', '0x00000000', '0x00000000', '0x3CE63B90', '0x3E828282', '0x3F0EE439', '0x3F547F29', '0x3F414141', '0x3F2E2E2E', '0x3F459AF0', '0x3F378CE2', '0x3F2479CF', '0x3F3BBBBB', '0x3F48C8C8', '0x3F40EB96', '0x3EB4095E', '0x3E8E8E8E', '0x3D4E2378', '0x00000000', '0x00000000', '0x00000000', '0x00000000', '0x00000000', '0x00000000', '0x00000000', '0x00000000', '0x00000000', '0x00000000', '0x00000000', '0x00000000', '0x1DF5CB20', '0x3E03D92E', '0x3EB6610B', '0x3F2E83D9', '0x3F42ED98', '0x3F414141', '0x3F27FD52', '0x3EED4297', '0x3EECECEC', '0x3F151515', '0x3F426D17', '0x3F4DCDCD', '0x3F39E48F', '0x3ECB2075', '0x3EA9A9A9', '0x3E40156A', '0x00000000', '0x00000000', '0x00000000', '0x00000000', '0x00000000', '0x00000000', '0x00000000', '0x00000000', '0x00000000', '0x00000000', '0x00000000', '0x00000000', '0x3DC4C4C4', '0x3E70459A', '0x3F111111', '0x3F370C61', '0x3F46F19C', '0x3F454545', '0x3F0055AB', '0x3E62E2E2', '0x3E2EAEAE', '0x3EAE5903', '0x3F0933DE', '0x3F35E08B', '0x3F499EF4', '0x3F25A5A5', '0x3EAEAEAE', '0x3E8630DB', '0x3D4E2378', '0x00000000', '0x00000000', '0x00000000', '0x00000000', '0x00000000', '0x00000000', '0x00000000', '0x00000000', '0x00000000', '0x1DE06060', '0x3DB60B60', '0x3E2751FC', '0x3EC9C9C9', '0x3F24FA4F', '0x3F4297ED', '0x3F527D27', '0x3F36E18C', '0x3EC6C6C6', '0x3E0DE338', '0x3D4E2378', '0x3D4E2378', '0x3E74F4F4', '0x3F0832DD', '0x3F2D0257', '0x3F454545', '0x3EE53A8F', '0x3E9BF146', '0x3DD0D0D0', '0x00000000', '0x00000000', '0x00000000', '0x00000000', '0x00000000', '0x00000000', '0x00000000', '0x00000000', '0x00000000', '0x3D562B80', '0x3E2953FE', '0x3E55802A', '0x3F119191', '0x3F2BD681', '0x3F4F4F4F', '0x3F47C7C7', '0x3F065BB1', '0x3E3A0F64', '0x1DEB15C0', '0x00000000', '0x00000000', '0x3D832DD8', '0x3EBABABA', '0x3F2176CC', '0x3F3B90E6', '0x3F1BF146', '0x3E9D9D9D', '0x3E032DD8', '0x3CB0B0B0', '0x00000000', '0x00000000', '0x00000000', '0x00000000', '0x00000000', '0x00000000', '0x00000000', '0x00000000', '0x3D663B90', '0x3E2953FE', '0x3E919191', '0x3F23A3A3', '0x3F33085D', '0x3F51FCA7', '0x3F2176CC', '0x3E62378C', '0x00000000', '0x00000000', '0x00000000', '0x00000000', '0x00000000', '0x3E6C4196', '0x3F11E73C', '0x3F3E3E3E', '0x3F3A0F64', '0x3EA7A7A7', '0x3E2953FE', '0x3D50D0D0', '0x00000000', '0x00000000', '0x00000000', '0x00000000', '0x00000000', '0x00000000', '0x00000000', '0x00000000', '0x3E29FF54', '0x3E2953FE', '0x3EC0156A', '0x3F2E2E2E', '0x3F350A5F', '0x3F3F6A14', '0x3EB2075C', '0x3E2953FE', '0x00000000', '0x00000000', '0x00000000', '0x00000000', '0x00000000', '0x3DEB9640', '0x3F098989', '0x3F5AB005', '0x3F3CE792', '0x3EB0055A', '0x3E2953FE', '0x3D50D0D0', '0x00000000', '0x00000000', '0x00000000', '0x00000000', '0x00000000', '0x00000000', '0x00000000', '0x00000000', '0x3E29FF54', '0x3E2953FE', '0x3ED17C26', '0x3F390E63', '0x3F40C0C0', '0x3EE0E0E0', '0x3E34B4B4', '0x3E28A8A8', '0x00000000', '0x00000000', '0x00000000', '0x00000000', '0x00000000', '0x3DECECEC', '0x3F09B45F', '0x3F5ADADA', '0x3F42176C', '0x3EE9E9E9', '0x3E2953FE', '0x3D50D0D0', '0x00000000', '0x00000000', '0x00000000', '0x00000000', '0x00000000', '0x00000000', '0x00000000', '0x00000000', '0x3E29FF54', '0x3E30B0B0', '0x3EFDFDFD', '0x3F461B70', '0x3F481D72', '0x3E69943E', '0x3E15EB40', '0x3DE0E0E0', '0x00000000', '0x00000000', '0x00000000', '0x00000000', '0x3CE0E0E0', '0x3EA1A1A1', '0x3F3B1065', '0x3F61B70C', '0x3F41EC97', '0x3EBEBEBE', '0x3DD4D4D4', '0x0EC02020', '0x00000000', '0x00000000', '0x00000000', '0x00000000', '0x00000000', '0x00000000', '0x00000000', '0x00000000', '0x3E29FF54', '0x3E6AEAEA', '0x3F1B1B1B', '0x3F4A1F74', '0x3F4BCBCB', '0x3E66E6E6', '0x3DE0E0E0', '0x00000000', '0x00000000', '0x00000000', '0x3D848484', '0x3DE38E38', '0x3E36B6B6', '0x3ED27D27', '0x3F3C3C3C', '0x3F6E9943', '0x3F3E3E3E', '0x3EB80D62', '0x3D2E0358', '0x00000000', '0x00000000', '0x00000000', '0x00000000', '0x00000000', '0x00000000', '0x00000000', '0x00000000', '0x00000000', '0x3E2AAAAA', '0x3E6AEAEA', '0x3F1B1B1B', '0x3F4A1F74', '0x3F4D7822', '0x3E858585', '0x3E13E93E', '0x3D0DE338', '0x3DF0F0F0', '0x3E189898', '0x3E234DF8', '0x3E84DA2F', '0x3EA8A8A8', '0x3EEE4398', '0x3F44EF9A', '0x3F6B9640', '0x3F196EC4', '0x3E0731DC', '0x00000000', '0x00000000', '0x00000000', '0x00000000', '0x00000000', '0x00000000', '0x00000000', '0x00000000', '0x00000000', '0x00000000', '0x3DDA2F84', '0x3E6AEAEA', '0x3F1B1B1B', '0x3F4A1F74', '0x3F53287D', '0x3ED5D5D5', '0x3E67923C', '0x3E2953FE', '0x3E2953FE', '0x3E2953FE', '0x3E919191', '0x3E9E9E9E', '0x3EA8A8A8', '0x3F07DD32', '0x3F67923C', '0x3F4CCCCC', '0x3EACACAC', '0x3CB0B0B0', '0x00000000', '0x00000000', '0x00000000', '0x00000000', '0x00000000', '0x00000000', '0x00000000', '0x00000000', '0x00000000', '0x00000000', '0x3D562B80', '0x3E55802A', '0x3F0257AD', '0x3F471C71', '0x3F537E28', '0x3F21A1A1', '0x3E8A8A8A', '0x3EA0F64B', '0x3EA953FE', '0x3EA953FE', '0x3EA9FF54', '0x3EA953FE', '0x3EADADAD', '0x3F27A7A7', '0x3F76F6F6', '0x3F0B8B8B', '0x3D68E8E8', '0x00000000', '0x00000000', '0x00000000', '0x00000000', '0x00000000', '0x00000000', '0x00000000', '0x00000000', '0x00000000', '0x00000000', '0x00000000', '0x3CEB9640', '0x3E0C8C8C', '0x3EC8731D', '0x3F31DC87', '0x3F56AC01', '0x3F51FCA7', '0x3F1DC873', '0x3ED0D0D0', '0x3EA8A8A8', '0x3EC16C16', '0x3EDA2F84', '0x3EFCFCFC', '0x3F358AE0', '0x3F686868', '0x3F3A8FE5', '0x3E32B2B2', '0x00000000', '0x00000000', '0x00000000', '0x00000000', '0x00000000', '0x00000000', '0x00000000', '0x00000000', '0x00000000', '0x00000000', '0x00000000', '0x00000000', '0x00000000', '0x3CCB7620', '0x3E9EF449', '0x3F1B9B9B', '0x3F5A2F84', '0x3F71C71C', '0x3F4D7822', '0x3F1EC974', '0x3F18EE43', '0x3F1EF449', '0x3F315C06', '0x3F44C4C4', '0x3F515151', '0x3F2CACAC', '0x3EB1B1B1', '0x3D0B35E0', '0x00000000', '0x00000000', '0x00000000', '0x00000000', '0x00000000', '0x00000000', '0x00000000', '0x00000000', '0x00000000', '0x00000000', '0x00000000', '0x00000000', '0x00000000', '0x00000000', '0x3DA0A0A0', '0x3EBF6A14', '0x3F1FF54A', '0x3F75CB20', '0x3F7B7B7B', '0x3F638E38', '0x3F45701A', '0x3F4ECECE', '0x3F4F4F4F', '0x3F32DD88', '0x3F1B9B9B', '0x3EAD5802', '0x3DBB6610', '0x00000000', '0x00000000', '0x00000000', '0x00000000', '0x00000000', '0x00000000', '0x00000000', '0x00000000', '0x00000000', '0x00000000', '0x00000000', '0x00000000', '0x00000000', '0x00000000', '0x00000000', '0x00000000', '0x3D3E1368', '0x3E70459A', '0x3F254FFA', '0x3F640EB9', '0x3F6F19C4', '0x3F4BCBCB', '0x3F292929', '0x3F25A5A5', '0x3F0EB964', '0x3E848484', '0x3DEE4398', '0x3CBB6610', '0x00000000', '0x00000000', '0x00000000', '0x00000000', '0x00000000', '0x00000000', '0x00000000', '0x00000000', '0x00000000', '0x00000000', '0x00000000', '0x00000000', '0x00000000', '0x00000000', '0x00000000', '0x00000000', '0x00000000', '0x3C2B5600', '0x3D1B45F0', '0x3DE0E0E0', '0x3EA9FF54', '0x3EC7C7C7', '0x3EB0B0B0', '0x3E23F94E', '0x3DD2277C', '0x3D133DE8', '0x0ECAD580', '0x00000000', '0x00000000', '0x00000000', '0x00000000', '0x00000000', '0x00000000', '0x00000000', '0x00000000', '0x00000000', '0x00000000', '0x00000000', '0x00000000', '0x00000000', '0x00000000', '0x00000000', '0x00000000', '0x00000000', '0x00000000', '0x00000000', '0x00000000', '0x00000000', '0x00000000', '0x00000000', '0x00000000', '0x00000000', '0x00000000', '0x00000000', '0x00000000', '0x00000000', '0x00000000', '0x00000000', '0x00000000', '0x00000000', '0x00000000', '0x00000000', '0x00000000', '0x00000000', '0x00000000', '0x00000000', '0x00000000', '0x00000000', '0x00000000', '0x00000000', '0x00000000', '0x00000000', '0x00000000', '0x00000000', '0x00000000', '0x00000000', '0x00000000', '0x00000000', '0x00000000', '0x00000000', '0x00000000', '0x00000000', '0x00000000', '0x00000000', '0x00000000', '0x00000000', '0x00000000', '0x00000000', '0x00000000', '0x00000000', '0x00000000', '0x00000000', '0x00000000', '0x00000000', '0x00000000', '0x00000000', '0x00000000', '0x00000000', '0x00000000', '0x00000000', '0x00000000', '0x00000000', '0x00000000', '0x00000000', '0x00000000', '0x00000000', '0x00000000', '0x00000000', '0x00000000', '0x00000000', '0x00000000', '0x00000000', '0x00000000', '0x00000000', '0x00000000', '0x00000000', '0x00000000', '0x00000000', '0x00000000', '0x00000000']\n"
          ]
        }
      ]
    },
    {
      "cell_type": "code",
      "source": [
        "np.savetxt('test.txt', flatten,fmt='%1.3f',newline=' ') "
      ],
      "metadata": {
        "id": "aSunYrLZb6Gg"
      },
      "execution_count": 180,
      "outputs": []
    },
    {
      "cell_type": "code",
      "source": [
        "file = open('items.txt','w')\n",
        "for item in empty_array:\n",
        "\tfile.write(item+\"\\n\")\n",
        "file.close()"
      ],
      "metadata": {
        "id": "kEeyNXkCb1SI"
      },
      "execution_count": 181,
      "outputs": []
    }
  ]
}